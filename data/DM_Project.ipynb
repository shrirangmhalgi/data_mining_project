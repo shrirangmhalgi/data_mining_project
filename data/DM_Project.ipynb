{
  "cells": [
    {
      "cell_type": "markdown",
      "id": "d43036e3",
      "metadata": {
        "id": "d43036e3"
      },
      "source": [
        "# Notebook for analysis of engineering-colleges-in-india"
      ]
    },
    {
      "cell_type": "code",
      "execution_count": null,
      "id": "a6d0f48f",
      "metadata": {
        "id": "a6d0f48f"
      },
      "outputs": [],
      "source": [
        "import numpy as np\n",
        "import pandas as pd\n",
        "import seaborn as sns\n",
        "import matplotlib.pyplot as plt\n",
        "from pathlib import Path"
      ]
    },
    {
      "cell_type": "code",
      "execution_count": null,
      "id": "32b15cd2",
      "metadata": {
        "id": "32b15cd2"
      },
      "outputs": [],
      "source": [
        "# reading the dataset\n",
        "engg_colleges = pd.read_csv(\"indian_universities.csv\")"
      ]
    },
    {
      "cell_type": "code",
      "execution_count": null,
      "id": "779aa8a0",
      "metadata": {
        "id": "779aa8a0",
        "outputId": "bf40d754-4e6f-4c1c-8a10-9d7d132931a4",
        "colab": {
          "base_uri": "https://localhost:8080/"
        }
      },
      "outputs": [
        {
          "output_type": "execute_result",
          "data": {
            "text/plain": [
              "(5440, 15)"
            ]
          },
          "metadata": {},
          "execution_count": 3
        }
      ],
      "source": [
        "# getting the shape of the dataset\n",
        "engg_colleges.shape"
      ]
    },
    {
      "cell_type": "code",
      "execution_count": null,
      "id": "c055a2e0",
      "metadata": {
        "id": "c055a2e0",
        "outputId": "7477e3b0-448b-4b26-f2e3-6ee520417bf9",
        "colab": {
          "base_uri": "https://localhost:8080/",
          "height": 300
        }
      },
      "outputs": [
        {
          "output_type": "execute_result",
          "data": {
            "text/plain": [
              "       Total Student Enrollments  Total Faculty  Established Year      Rating  \\\n",
              "count               4.437000e+03    5279.000000       5339.000000  327.000000   \n",
              "mean                1.915446e+03      96.739345       2000.425548    3.081896   \n",
              "std                 1.841858e+04     113.869962         16.203044    0.305166   \n",
              "min                 1.000000e+00       1.000000       1857.000000    2.010000   \n",
              "25%                 4.090000e+02      37.000000       1998.000000    3.010000   \n",
              "50%                 8.120000e+02      69.000000       2007.000000    3.100000   \n",
              "75%                 1.551000e+03     124.000000       2009.000000    3.235000   \n",
              "max                 1.035081e+06    2453.000000       2019.000000    3.830000   \n",
              "\n",
              "       Average Fees  \n",
              "count  5.440000e+03  \n",
              "mean   1.886011e+05  \n",
              "std    1.807647e+05  \n",
              "min    1.800000e+02  \n",
              "25%    9.000000e+04  \n",
              "50%    1.590000e+05  \n",
              "75%    2.400000e+05  \n",
              "max    3.578597e+06  "
            ],
            "text/html": [
              "\n",
              "  <div id=\"df-743ef9ef-2dea-4197-85c1-51daa3efafe3\">\n",
              "    <div class=\"colab-df-container\">\n",
              "      <div>\n",
              "<style scoped>\n",
              "    .dataframe tbody tr th:only-of-type {\n",
              "        vertical-align: middle;\n",
              "    }\n",
              "\n",
              "    .dataframe tbody tr th {\n",
              "        vertical-align: top;\n",
              "    }\n",
              "\n",
              "    .dataframe thead th {\n",
              "        text-align: right;\n",
              "    }\n",
              "</style>\n",
              "<table border=\"1\" class=\"dataframe\">\n",
              "  <thead>\n",
              "    <tr style=\"text-align: right;\">\n",
              "      <th></th>\n",
              "      <th>Total Student Enrollments</th>\n",
              "      <th>Total Faculty</th>\n",
              "      <th>Established Year</th>\n",
              "      <th>Rating</th>\n",
              "      <th>Average Fees</th>\n",
              "    </tr>\n",
              "  </thead>\n",
              "  <tbody>\n",
              "    <tr>\n",
              "      <th>count</th>\n",
              "      <td>4.437000e+03</td>\n",
              "      <td>5279.000000</td>\n",
              "      <td>5339.000000</td>\n",
              "      <td>327.000000</td>\n",
              "      <td>5.440000e+03</td>\n",
              "    </tr>\n",
              "    <tr>\n",
              "      <th>mean</th>\n",
              "      <td>1.915446e+03</td>\n",
              "      <td>96.739345</td>\n",
              "      <td>2000.425548</td>\n",
              "      <td>3.081896</td>\n",
              "      <td>1.886011e+05</td>\n",
              "    </tr>\n",
              "    <tr>\n",
              "      <th>std</th>\n",
              "      <td>1.841858e+04</td>\n",
              "      <td>113.869962</td>\n",
              "      <td>16.203044</td>\n",
              "      <td>0.305166</td>\n",
              "      <td>1.807647e+05</td>\n",
              "    </tr>\n",
              "    <tr>\n",
              "      <th>min</th>\n",
              "      <td>1.000000e+00</td>\n",
              "      <td>1.000000</td>\n",
              "      <td>1857.000000</td>\n",
              "      <td>2.010000</td>\n",
              "      <td>1.800000e+02</td>\n",
              "    </tr>\n",
              "    <tr>\n",
              "      <th>25%</th>\n",
              "      <td>4.090000e+02</td>\n",
              "      <td>37.000000</td>\n",
              "      <td>1998.000000</td>\n",
              "      <td>3.010000</td>\n",
              "      <td>9.000000e+04</td>\n",
              "    </tr>\n",
              "    <tr>\n",
              "      <th>50%</th>\n",
              "      <td>8.120000e+02</td>\n",
              "      <td>69.000000</td>\n",
              "      <td>2007.000000</td>\n",
              "      <td>3.100000</td>\n",
              "      <td>1.590000e+05</td>\n",
              "    </tr>\n",
              "    <tr>\n",
              "      <th>75%</th>\n",
              "      <td>1.551000e+03</td>\n",
              "      <td>124.000000</td>\n",
              "      <td>2009.000000</td>\n",
              "      <td>3.235000</td>\n",
              "      <td>2.400000e+05</td>\n",
              "    </tr>\n",
              "    <tr>\n",
              "      <th>max</th>\n",
              "      <td>1.035081e+06</td>\n",
              "      <td>2453.000000</td>\n",
              "      <td>2019.000000</td>\n",
              "      <td>3.830000</td>\n",
              "      <td>3.578597e+06</td>\n",
              "    </tr>\n",
              "  </tbody>\n",
              "</table>\n",
              "</div>\n",
              "      <button class=\"colab-df-convert\" onclick=\"convertToInteractive('df-743ef9ef-2dea-4197-85c1-51daa3efafe3')\"\n",
              "              title=\"Convert this dataframe to an interactive table.\"\n",
              "              style=\"display:none;\">\n",
              "        \n",
              "  <svg xmlns=\"http://www.w3.org/2000/svg\" height=\"24px\"viewBox=\"0 0 24 24\"\n",
              "       width=\"24px\">\n",
              "    <path d=\"M0 0h24v24H0V0z\" fill=\"none\"/>\n",
              "    <path d=\"M18.56 5.44l.94 2.06.94-2.06 2.06-.94-2.06-.94-.94-2.06-.94 2.06-2.06.94zm-11 1L8.5 8.5l.94-2.06 2.06-.94-2.06-.94L8.5 2.5l-.94 2.06-2.06.94zm10 10l.94 2.06.94-2.06 2.06-.94-2.06-.94-.94-2.06-.94 2.06-2.06.94z\"/><path d=\"M17.41 7.96l-1.37-1.37c-.4-.4-.92-.59-1.43-.59-.52 0-1.04.2-1.43.59L10.3 9.45l-7.72 7.72c-.78.78-.78 2.05 0 2.83L4 21.41c.39.39.9.59 1.41.59.51 0 1.02-.2 1.41-.59l7.78-7.78 2.81-2.81c.8-.78.8-2.07 0-2.86zM5.41 20L4 18.59l7.72-7.72 1.47 1.35L5.41 20z\"/>\n",
              "  </svg>\n",
              "      </button>\n",
              "      \n",
              "  <style>\n",
              "    .colab-df-container {\n",
              "      display:flex;\n",
              "      flex-wrap:wrap;\n",
              "      gap: 12px;\n",
              "    }\n",
              "\n",
              "    .colab-df-convert {\n",
              "      background-color: #E8F0FE;\n",
              "      border: none;\n",
              "      border-radius: 50%;\n",
              "      cursor: pointer;\n",
              "      display: none;\n",
              "      fill: #1967D2;\n",
              "      height: 32px;\n",
              "      padding: 0 0 0 0;\n",
              "      width: 32px;\n",
              "    }\n",
              "\n",
              "    .colab-df-convert:hover {\n",
              "      background-color: #E2EBFA;\n",
              "      box-shadow: 0px 1px 2px rgba(60, 64, 67, 0.3), 0px 1px 3px 1px rgba(60, 64, 67, 0.15);\n",
              "      fill: #174EA6;\n",
              "    }\n",
              "\n",
              "    [theme=dark] .colab-df-convert {\n",
              "      background-color: #3B4455;\n",
              "      fill: #D2E3FC;\n",
              "    }\n",
              "\n",
              "    [theme=dark] .colab-df-convert:hover {\n",
              "      background-color: #434B5C;\n",
              "      box-shadow: 0px 1px 3px 1px rgba(0, 0, 0, 0.15);\n",
              "      filter: drop-shadow(0px 1px 2px rgba(0, 0, 0, 0.3));\n",
              "      fill: #FFFFFF;\n",
              "    }\n",
              "  </style>\n",
              "\n",
              "      <script>\n",
              "        const buttonEl =\n",
              "          document.querySelector('#df-743ef9ef-2dea-4197-85c1-51daa3efafe3 button.colab-df-convert');\n",
              "        buttonEl.style.display =\n",
              "          google.colab.kernel.accessAllowed ? 'block' : 'none';\n",
              "\n",
              "        async function convertToInteractive(key) {\n",
              "          const element = document.querySelector('#df-743ef9ef-2dea-4197-85c1-51daa3efafe3');\n",
              "          const dataTable =\n",
              "            await google.colab.kernel.invokeFunction('convertToInteractive',\n",
              "                                                     [key], {});\n",
              "          if (!dataTable) return;\n",
              "\n",
              "          const docLinkHtml = 'Like what you see? Visit the ' +\n",
              "            '<a target=\"_blank\" href=https://colab.research.google.com/notebooks/data_table.ipynb>data table notebook</a>'\n",
              "            + ' to learn more about interactive tables.';\n",
              "          element.innerHTML = '';\n",
              "          dataTable['output_type'] = 'display_data';\n",
              "          await google.colab.output.renderOutput(dataTable, element);\n",
              "          const docLink = document.createElement('div');\n",
              "          docLink.innerHTML = docLinkHtml;\n",
              "          element.appendChild(docLink);\n",
              "        }\n",
              "      </script>\n",
              "    </div>\n",
              "  </div>\n",
              "  "
            ]
          },
          "metadata": {},
          "execution_count": 4
        }
      ],
      "source": [
        "engg_colleges.describe()"
      ]
    },
    {
      "cell_type": "code",
      "execution_count": null,
      "id": "3db5aef9",
      "metadata": {
        "id": "3db5aef9",
        "outputId": "d7bfc994-e814-4eb9-fcc8-c3f5bbf59b50",
        "colab": {
          "base_uri": "https://localhost:8080/"
        }
      },
      "outputs": [
        {
          "output_type": "execute_result",
          "data": {
            "text/plain": [
              "College Name                    0\n",
              "Genders Accepted               18\n",
              "Campus Size                  2751\n",
              "Total Student Enrollments    1003\n",
              "Total Faculty                 161\n",
              "Established Year              101\n",
              "Rating                       5113\n",
              "University                   1936\n",
              "Courses                         0\n",
              "Facilities                     12\n",
              "City                            0\n",
              "State                           0\n",
              "Country                         0\n",
              "College Type                    1\n",
              "Average Fees                    0\n",
              "dtype: int64"
            ]
          },
          "metadata": {},
          "execution_count": 5
        }
      ],
      "source": [
        "# checking for null values\n",
        "engg_colleges.isna().sum()"
      ]
    },
    {
      "cell_type": "code",
      "execution_count": null,
      "id": "d963a44a",
      "metadata": {
        "id": "d963a44a",
        "outputId": "1c1ee863-5cb7-4d9e-c447-39cbe5306c95",
        "colab": {
          "base_uri": "https://localhost:8080/"
        }
      },
      "outputs": [
        {
          "output_type": "execute_result",
          "data": {
            "text/plain": [
              "College Name                  object\n",
              "Genders Accepted              object\n",
              "Campus Size                   object\n",
              "Total Student Enrollments    float64\n",
              "Total Faculty                float64\n",
              "Established Year             float64\n",
              "Rating                       float64\n",
              "University                    object\n",
              "Courses                       object\n",
              "Facilities                    object\n",
              "City                          object\n",
              "State                         object\n",
              "Country                       object\n",
              "College Type                  object\n",
              "Average Fees                 float64\n",
              "dtype: object"
            ]
          },
          "metadata": {},
          "execution_count": 6
        }
      ],
      "source": [
        "# checking for data types of the columns\n",
        "engg_colleges.dtypes"
      ]
    },
    {
      "cell_type": "code",
      "execution_count": null,
      "id": "0918ca91",
      "metadata": {
        "id": "0918ca91",
        "outputId": "536dbb55-9bdc-44c8-86e8-0951c2bf5a4d",
        "colab": {
          "base_uri": "https://localhost:8080/",
          "height": 652
        }
      },
      "outputs": [
        {
          "output_type": "execute_result",
          "data": {
            "text/plain": [
              "                                        College Name Genders Accepted  \\\n",
              "0         National Institute of Technology Rourkela             Co-Ed   \n",
              "1  Visvesvaraya National Institute of Technology ...            Co-Ed   \n",
              "2             Netaji Subhas University of Technology            Co-Ed   \n",
              "3                      Birla Institute of Technology            Co-Ed   \n",
              "4  International Institute of Information Technology            Co-Ed   \n",
              "\n",
              "  Campus Size  Total Student Enrollments  Total Faculty  Established Year  \\\n",
              "0   647 Acres                     4811.0          329.0            2007.0   \n",
              "1   215 Acres                     1071.0          192.0            2007.0   \n",
              "2   145 Acres                     3759.0          101.0            2018.0   \n",
              "3   980 Acres                     4506.0          284.0            1955.0   \n",
              "4    66 Acres                     1721.0           85.0            2001.0   \n",
              "\n",
              "   Rating University                                            Courses  \\\n",
              "0    3.12        NaN  B.Tech Mechanical Engineering, B.Tech Computer...   \n",
              "1     NaN        NaN  B.Tech Computer Science Engineering, B.Tech El...   \n",
              "2     NaN        NaN  B.Tech Computer Engineering, B.Tech Electronic...   \n",
              "3     NaN        NaN  B.Tech Computer Science Engineering, B.Tech El...   \n",
              "4    3.05        NaN  B.Tech Computer Science and Engineering, M.Tec...   \n",
              "\n",
              "                                          Facilities       City        State  \\\n",
              "0  Boys Hostel, Girls Hostel, Gym, Library, Sport...   Rourkela       Odisha   \n",
              "1  Boys Hostel, Girls Hostel, Gym, Library, Sport...     Nagpur  Maharashtra   \n",
              "2  Boys Hostel, Girls Hostel, Gym, Library, Sport...  New Delhi        Delhi   \n",
              "3  Boys Hostel, Girls Hostel, Gym, Library, Sport...     Ranchi    Jharkhand   \n",
              "4  Boys Hostel, Girls Hostel, Gym, Library, Sport...  Hyderabad    Telangana   \n",
              "\n",
              "  Country       College Type   Average Fees  \n",
              "0   India  Public/Government  350600.000000  \n",
              "1   India  Public/Government  273596.666667  \n",
              "2   India  Public/Government  352320.000000  \n",
              "3   India            Private  596686.046512  \n",
              "4   India            Private  756666.666667  "
            ],
            "text/html": [
              "\n",
              "  <div id=\"df-6d25f781-e05a-4c5e-8f2b-4f30fede1a25\">\n",
              "    <div class=\"colab-df-container\">\n",
              "      <div>\n",
              "<style scoped>\n",
              "    .dataframe tbody tr th:only-of-type {\n",
              "        vertical-align: middle;\n",
              "    }\n",
              "\n",
              "    .dataframe tbody tr th {\n",
              "        vertical-align: top;\n",
              "    }\n",
              "\n",
              "    .dataframe thead th {\n",
              "        text-align: right;\n",
              "    }\n",
              "</style>\n",
              "<table border=\"1\" class=\"dataframe\">\n",
              "  <thead>\n",
              "    <tr style=\"text-align: right;\">\n",
              "      <th></th>\n",
              "      <th>College Name</th>\n",
              "      <th>Genders Accepted</th>\n",
              "      <th>Campus Size</th>\n",
              "      <th>Total Student Enrollments</th>\n",
              "      <th>Total Faculty</th>\n",
              "      <th>Established Year</th>\n",
              "      <th>Rating</th>\n",
              "      <th>University</th>\n",
              "      <th>Courses</th>\n",
              "      <th>Facilities</th>\n",
              "      <th>City</th>\n",
              "      <th>State</th>\n",
              "      <th>Country</th>\n",
              "      <th>College Type</th>\n",
              "      <th>Average Fees</th>\n",
              "    </tr>\n",
              "  </thead>\n",
              "  <tbody>\n",
              "    <tr>\n",
              "      <th>0</th>\n",
              "      <td>National Institute of Technology Rourkela</td>\n",
              "      <td>Co-Ed</td>\n",
              "      <td>647 Acres</td>\n",
              "      <td>4811.0</td>\n",
              "      <td>329.0</td>\n",
              "      <td>2007.0</td>\n",
              "      <td>3.12</td>\n",
              "      <td>NaN</td>\n",
              "      <td>B.Tech Mechanical Engineering, B.Tech Computer...</td>\n",
              "      <td>Boys Hostel, Girls Hostel, Gym, Library, Sport...</td>\n",
              "      <td>Rourkela</td>\n",
              "      <td>Odisha</td>\n",
              "      <td>India</td>\n",
              "      <td>Public/Government</td>\n",
              "      <td>350600.000000</td>\n",
              "    </tr>\n",
              "    <tr>\n",
              "      <th>1</th>\n",
              "      <td>Visvesvaraya National Institute of Technology ...</td>\n",
              "      <td>Co-Ed</td>\n",
              "      <td>215 Acres</td>\n",
              "      <td>1071.0</td>\n",
              "      <td>192.0</td>\n",
              "      <td>2007.0</td>\n",
              "      <td>NaN</td>\n",
              "      <td>NaN</td>\n",
              "      <td>B.Tech Computer Science Engineering, B.Tech El...</td>\n",
              "      <td>Boys Hostel, Girls Hostel, Gym, Library, Sport...</td>\n",
              "      <td>Nagpur</td>\n",
              "      <td>Maharashtra</td>\n",
              "      <td>India</td>\n",
              "      <td>Public/Government</td>\n",
              "      <td>273596.666667</td>\n",
              "    </tr>\n",
              "    <tr>\n",
              "      <th>2</th>\n",
              "      <td>Netaji Subhas University of Technology</td>\n",
              "      <td>Co-Ed</td>\n",
              "      <td>145 Acres</td>\n",
              "      <td>3759.0</td>\n",
              "      <td>101.0</td>\n",
              "      <td>2018.0</td>\n",
              "      <td>NaN</td>\n",
              "      <td>NaN</td>\n",
              "      <td>B.Tech Computer Engineering, B.Tech Electronic...</td>\n",
              "      <td>Boys Hostel, Girls Hostel, Gym, Library, Sport...</td>\n",
              "      <td>New Delhi</td>\n",
              "      <td>Delhi</td>\n",
              "      <td>India</td>\n",
              "      <td>Public/Government</td>\n",
              "      <td>352320.000000</td>\n",
              "    </tr>\n",
              "    <tr>\n",
              "      <th>3</th>\n",
              "      <td>Birla Institute of Technology</td>\n",
              "      <td>Co-Ed</td>\n",
              "      <td>980 Acres</td>\n",
              "      <td>4506.0</td>\n",
              "      <td>284.0</td>\n",
              "      <td>1955.0</td>\n",
              "      <td>NaN</td>\n",
              "      <td>NaN</td>\n",
              "      <td>B.Tech Computer Science Engineering, B.Tech El...</td>\n",
              "      <td>Boys Hostel, Girls Hostel, Gym, Library, Sport...</td>\n",
              "      <td>Ranchi</td>\n",
              "      <td>Jharkhand</td>\n",
              "      <td>India</td>\n",
              "      <td>Private</td>\n",
              "      <td>596686.046512</td>\n",
              "    </tr>\n",
              "    <tr>\n",
              "      <th>4</th>\n",
              "      <td>International Institute of Information Technology</td>\n",
              "      <td>Co-Ed</td>\n",
              "      <td>66 Acres</td>\n",
              "      <td>1721.0</td>\n",
              "      <td>85.0</td>\n",
              "      <td>2001.0</td>\n",
              "      <td>3.05</td>\n",
              "      <td>NaN</td>\n",
              "      <td>B.Tech Computer Science and Engineering, M.Tec...</td>\n",
              "      <td>Boys Hostel, Girls Hostel, Gym, Library, Sport...</td>\n",
              "      <td>Hyderabad</td>\n",
              "      <td>Telangana</td>\n",
              "      <td>India</td>\n",
              "      <td>Private</td>\n",
              "      <td>756666.666667</td>\n",
              "    </tr>\n",
              "  </tbody>\n",
              "</table>\n",
              "</div>\n",
              "      <button class=\"colab-df-convert\" onclick=\"convertToInteractive('df-6d25f781-e05a-4c5e-8f2b-4f30fede1a25')\"\n",
              "              title=\"Convert this dataframe to an interactive table.\"\n",
              "              style=\"display:none;\">\n",
              "        \n",
              "  <svg xmlns=\"http://www.w3.org/2000/svg\" height=\"24px\"viewBox=\"0 0 24 24\"\n",
              "       width=\"24px\">\n",
              "    <path d=\"M0 0h24v24H0V0z\" fill=\"none\"/>\n",
              "    <path d=\"M18.56 5.44l.94 2.06.94-2.06 2.06-.94-2.06-.94-.94-2.06-.94 2.06-2.06.94zm-11 1L8.5 8.5l.94-2.06 2.06-.94-2.06-.94L8.5 2.5l-.94 2.06-2.06.94zm10 10l.94 2.06.94-2.06 2.06-.94-2.06-.94-.94-2.06-.94 2.06-2.06.94z\"/><path d=\"M17.41 7.96l-1.37-1.37c-.4-.4-.92-.59-1.43-.59-.52 0-1.04.2-1.43.59L10.3 9.45l-7.72 7.72c-.78.78-.78 2.05 0 2.83L4 21.41c.39.39.9.59 1.41.59.51 0 1.02-.2 1.41-.59l7.78-7.78 2.81-2.81c.8-.78.8-2.07 0-2.86zM5.41 20L4 18.59l7.72-7.72 1.47 1.35L5.41 20z\"/>\n",
              "  </svg>\n",
              "      </button>\n",
              "      \n",
              "  <style>\n",
              "    .colab-df-container {\n",
              "      display:flex;\n",
              "      flex-wrap:wrap;\n",
              "      gap: 12px;\n",
              "    }\n",
              "\n",
              "    .colab-df-convert {\n",
              "      background-color: #E8F0FE;\n",
              "      border: none;\n",
              "      border-radius: 50%;\n",
              "      cursor: pointer;\n",
              "      display: none;\n",
              "      fill: #1967D2;\n",
              "      height: 32px;\n",
              "      padding: 0 0 0 0;\n",
              "      width: 32px;\n",
              "    }\n",
              "\n",
              "    .colab-df-convert:hover {\n",
              "      background-color: #E2EBFA;\n",
              "      box-shadow: 0px 1px 2px rgba(60, 64, 67, 0.3), 0px 1px 3px 1px rgba(60, 64, 67, 0.15);\n",
              "      fill: #174EA6;\n",
              "    }\n",
              "\n",
              "    [theme=dark] .colab-df-convert {\n",
              "      background-color: #3B4455;\n",
              "      fill: #D2E3FC;\n",
              "    }\n",
              "\n",
              "    [theme=dark] .colab-df-convert:hover {\n",
              "      background-color: #434B5C;\n",
              "      box-shadow: 0px 1px 3px 1px rgba(0, 0, 0, 0.15);\n",
              "      filter: drop-shadow(0px 1px 2px rgba(0, 0, 0, 0.3));\n",
              "      fill: #FFFFFF;\n",
              "    }\n",
              "  </style>\n",
              "\n",
              "      <script>\n",
              "        const buttonEl =\n",
              "          document.querySelector('#df-6d25f781-e05a-4c5e-8f2b-4f30fede1a25 button.colab-df-convert');\n",
              "        buttonEl.style.display =\n",
              "          google.colab.kernel.accessAllowed ? 'block' : 'none';\n",
              "\n",
              "        async function convertToInteractive(key) {\n",
              "          const element = document.querySelector('#df-6d25f781-e05a-4c5e-8f2b-4f30fede1a25');\n",
              "          const dataTable =\n",
              "            await google.colab.kernel.invokeFunction('convertToInteractive',\n",
              "                                                     [key], {});\n",
              "          if (!dataTable) return;\n",
              "\n",
              "          const docLinkHtml = 'Like what you see? Visit the ' +\n",
              "            '<a target=\"_blank\" href=https://colab.research.google.com/notebooks/data_table.ipynb>data table notebook</a>'\n",
              "            + ' to learn more about interactive tables.';\n",
              "          element.innerHTML = '';\n",
              "          dataTable['output_type'] = 'display_data';\n",
              "          await google.colab.output.renderOutput(dataTable, element);\n",
              "          const docLink = document.createElement('div');\n",
              "          docLink.innerHTML = docLinkHtml;\n",
              "          element.appendChild(docLink);\n",
              "        }\n",
              "      </script>\n",
              "    </div>\n",
              "  </div>\n",
              "  "
            ]
          },
          "metadata": {},
          "execution_count": 7
        }
      ],
      "source": [
        "engg_colleges.head()"
      ]
    },
    {
      "cell_type": "markdown",
      "id": "d2778229",
      "metadata": {
        "id": "d2778229"
      },
      "source": [
        "## Performing column by column data analysis"
      ]
    },
    {
      "cell_type": "markdown",
      "id": "ac2b0a84",
      "metadata": {
        "id": "ac2b0a84"
      },
      "source": [
        "### 1. College Name : Some of the Colleges are repeated. In our database we need to make sure that we are storing unique colleges"
      ]
    },
    {
      "cell_type": "code",
      "execution_count": null,
      "id": "f339e071",
      "metadata": {
        "id": "f339e071",
        "outputId": "cdacbb21-dca5-48ce-cb92-ad8660c22057",
        "colab": {
          "base_uri": "https://localhost:8080/"
        }
      },
      "outputs": [
        {
          "output_type": "execute_result",
          "data": {
            "text/plain": [
              "0"
            ]
          },
          "metadata": {},
          "execution_count": 8
        }
      ],
      "source": [
        "# checking for null values\n",
        "engg_colleges[\"College Name\"].isna().sum()\n"
      ]
    },
    {
      "cell_type": "code",
      "execution_count": null,
      "id": "cde5bdb2",
      "metadata": {
        "id": "cde5bdb2",
        "outputId": "c85356b5-a75a-471f-96e3-456cc0536415",
        "colab": {
          "base_uri": "https://localhost:8080/"
        }
      },
      "outputs": [
        {
          "output_type": "execute_result",
          "data": {
            "text/plain": [
              "5440"
            ]
          },
          "metadata": {},
          "execution_count": 9
        }
      ],
      "source": [
        "# getting the total number of colleges which are present\n",
        "len(engg_colleges[\"College Name\"])"
      ]
    },
    {
      "cell_type": "code",
      "execution_count": null,
      "id": "113870ba",
      "metadata": {
        "id": "113870ba",
        "outputId": "f626df27-fe9a-4ff9-99df-cd5a50cfbe0d",
        "colab": {
          "base_uri": "https://localhost:8080/"
        }
      },
      "outputs": [
        {
          "output_type": "execute_result",
          "data": {
            "text/plain": [
              "4830"
            ]
          },
          "metadata": {},
          "execution_count": 10
        }
      ],
      "source": [
        "# getting the total number of unique colleges which are present\n",
        "len(set(engg_colleges[\"College Name\"]))"
      ]
    },
    {
      "cell_type": "code",
      "execution_count": null,
      "id": "05403d60",
      "metadata": {
        "id": "05403d60",
        "outputId": "e1383a88-3faf-45dd-ca9a-bb9e73360c83",
        "colab": {
          "base_uri": "https://localhost:8080/",
          "height": 35
        }
      },
      "outputs": [
        {
          "output_type": "execute_result",
          "data": {
            "text/plain": [
              "'There are 205 repeated colleges which are available in the dataset'"
            ],
            "application/vnd.google.colaboratory.intrinsic+json": {
              "type": "string"
            }
          },
          "metadata": {},
          "execution_count": 11
        }
      ],
      "source": [
        "# getting the count of repeated colleges \n",
        "college_count = {}\n",
        "\n",
        "# storing the count of corresponding colleges in the dictionary\n",
        "for college in list(engg_colleges[\"College Name\"]):\n",
        "    if college not in college_count.keys():\n",
        "        college_count[college] = 1\n",
        "    else: \n",
        "        college_count[college] += 1\n",
        "\n",
        "# getting the list of repeated colleges\n",
        "repeated_colleges = []\n",
        "\n",
        "for key, value in college_count.items():\n",
        "    if value > 1:\n",
        "        repeated_colleges.append(key)\n",
        "\n",
        "f\"There are {len(repeated_colleges)} repeated colleges which are available in the dataset\""
      ]
    },
    {
      "cell_type": "code",
      "execution_count": null,
      "id": "dda01697",
      "metadata": {
        "id": "dda01697",
        "outputId": "e72e11fc-cb79-4622-aea2-972ad0db4ea5",
        "colab": {
          "base_uri": "https://localhost:8080/"
        }
      },
      "outputs": [
        {
          "output_type": "execute_result",
          "data": {
            "text/plain": [
              "(4830, 15)"
            ]
          },
          "metadata": {},
          "execution_count": 12
        }
      ],
      "source": [
        "# dropping the duplicate rows from the dataset\n",
        "engg_colleges.drop_duplicates(subset=['College Name'], inplace=True)\n",
        "engg_colleges.shape"
      ]
    },
    {
      "cell_type": "markdown",
      "id": "d8dc6045",
      "metadata": {
        "id": "d8dc6045"
      },
      "source": [
        "### 2. Genders Accepted : This can be a new database table where in we will store the unique genders accepted. Tomorrow if any new type of gender gets added, then we can easily update this table and add the new gender"
      ]
    },
    {
      "cell_type": "code",
      "execution_count": null,
      "id": "a77b47ae",
      "metadata": {
        "id": "a77b47ae",
        "outputId": "12f20ea7-196c-4f18-9e1e-7a3238bb7539",
        "colab": {
          "base_uri": "https://localhost:8080/"
        }
      },
      "outputs": [
        {
          "output_type": "execute_result",
          "data": {
            "text/plain": [
              "17"
            ]
          },
          "metadata": {},
          "execution_count": 13
        }
      ],
      "source": [
        "# checking for null values\n",
        "engg_colleges[\"Genders Accepted\"].isna().sum()"
      ]
    },
    {
      "cell_type": "code",
      "execution_count": null,
      "id": "39100276",
      "metadata": {
        "id": "39100276",
        "outputId": "68bb3478-6810-4408-9aac-bbf3e7d1b213",
        "colab": {
          "base_uri": "https://localhost:8080/"
        }
      },
      "outputs": [
        {
          "output_type": "execute_result",
          "data": {
            "text/plain": [
              "{'Co-Ed', 'Co-Ed5666656', 'Female', 'Male', nan}"
            ]
          },
          "metadata": {},
          "execution_count": 14
        }
      ],
      "source": [
        "# getting the total number of unique genders which are present\n",
        "set(engg_colleges[\"Genders Accepted\"])"
      ]
    },
    {
      "cell_type": "code",
      "execution_count": null,
      "id": "d3e89dad",
      "metadata": {
        "id": "d3e89dad"
      },
      "outputs": [],
      "source": [
        "# replacing the Co-Ed5666656 by Co-Ed\n",
        "engg_colleges[\"Genders Accepted\"].replace(\"Co-Ed5666656\", \"Co-Ed\", inplace=True)"
      ]
    },
    {
      "cell_type": "code",
      "execution_count": null,
      "id": "4524a2a9",
      "metadata": {
        "id": "4524a2a9",
        "outputId": "406ff94a-a9f4-4c19-8223-265dc86a90a0",
        "colab": {
          "base_uri": "https://localhost:8080/"
        }
      },
      "outputs": [
        {
          "output_type": "execute_result",
          "data": {
            "text/plain": [
              "{'Co-Ed', 'Female', 'Male', nan}"
            ]
          },
          "metadata": {},
          "execution_count": 16
        }
      ],
      "source": [
        "# getting the total number of unique genders which are present\n",
        "# We can see that currently we have 4 types of genders in our dataset\n",
        "set(engg_colleges[\"Genders Accepted\"])"
      ]
    },
    {
      "cell_type": "code",
      "source": [
        "# update NaN value with Co-Ed\n",
        "engg_colleges[\"Genders Accepted\"] = engg_colleges[\"Genders Accepted\"].fillna('Co-Ed')"
      ],
      "metadata": {
        "id": "KTFPe4LR3IY5"
      },
      "id": "KTFPe4LR3IY5",
      "execution_count": null,
      "outputs": []
    },
    {
      "cell_type": "code",
      "execution_count": null,
      "id": "46c3755c",
      "metadata": {
        "id": "46c3755c",
        "outputId": "46346cff-4160-492d-fa73-78cd35bdf067",
        "colab": {
          "base_uri": "https://localhost:8080/",
          "height": 467
        }
      },
      "outputs": [
        {
          "output_type": "execute_result",
          "data": {
            "text/plain": [
              "<Axes: xlabel='Genders Accepted', ylabel='count'>"
            ]
          },
          "metadata": {},
          "execution_count": 18
        },
        {
          "output_type": "display_data",
          "data": {
            "text/plain": [
              "<Figure size 640x480 with 1 Axes>"
            ],
            "image/png": "[encoded data removed]"
          },
          "metadata": {}
        }
      ],
      "source": [
        "# getting the count of different genders accepted}\n",
        "sns.countplot(data=engg_colleges, x=engg_colleges[\"Genders Accepted\"])"
      ]
    },
    {
      "cell_type": "markdown",
      "id": "9af3bb63",
      "metadata": {
        "id": "9af3bb63"
      },
      "source": [
        "### 3. Campus Size : Need to clean the column by removing the word acre after every value and convert the same into numerical column"
      ]
    },
    {
      "cell_type": "code",
      "execution_count": null,
      "id": "db1511a2",
      "metadata": {
        "id": "db1511a2",
        "outputId": "6662d0df-18fc-4fee-8993-bb75fd5de825",
        "colab": {
          "base_uri": "https://localhost:8080/"
        }
      },
      "outputs": [
        {
          "output_type": "execute_result",
          "data": {
            "text/plain": [
              "2458"
            ]
          },
          "metadata": {},
          "execution_count": 19
        }
      ],
      "source": [
        "# checking for null values\n",
        "engg_colleges[\"Campus Size\"].isna().sum()"
      ]
    },
    {
      "cell_type": "code",
      "execution_count": null,
      "id": "942fa061",
      "metadata": {
        "id": "942fa061"
      },
      "outputs": [],
      "source": [
        "# replacing Acres / Acre with blank string and stripping out the spaces\n",
        "engg_colleges[\"Campus Size\"] = engg_colleges[\"Campus Size\"].str.replace(\"Acres\", \"\")\n",
        "engg_colleges[\"Campus Size\"] = engg_colleges[\"Campus Size\"].str.replace(\"Acre\", \"\")\n",
        "engg_colleges[\"Campus Size\"] = engg_colleges[\"Campus Size\"].str.strip()"
      ]
    },
    {
      "cell_type": "code",
      "execution_count": null,
      "id": "3104671f",
      "metadata": {
        "id": "3104671f"
      },
      "outputs": [],
      "source": [
        "# converting the data types of the Campus size to float\n",
        "engg_colleges[\"Campus Size\"] = engg_colleges[\"Campus Size\"].astype('float')"
      ]
    },
    {
      "cell_type": "code",
      "execution_count": null,
      "id": "3064aff8",
      "metadata": {
        "id": "3064aff8",
        "outputId": "766592ee-a83f-4ad5-b466-152dcc3811e7",
        "colab": {
          "base_uri": "https://localhost:8080/"
        }
      },
      "outputs": [
        {
          "output_type": "execute_result",
          "data": {
            "text/plain": [
              "dtype('float64')"
            ]
          },
          "metadata": {},
          "execution_count": 22
        }
      ],
      "source": [
        "# checking the data type for Campus Size\n",
        "engg_colleges[\"Campus Size\"].dtype"
      ]
    },
    {
      "cell_type": "code",
      "execution_count": null,
      "id": "c6a239f3",
      "metadata": {
        "id": "c6a239f3",
        "outputId": "c4f80a38-6955-4b00-8057-c9a8ee2355a3",
        "colab": {
          "base_uri": "https://localhost:8080/"
        }
      },
      "outputs": [
        {
          "output_type": "execute_result",
          "data": {
            "text/plain": [
              "count     2372.000000\n",
              "mean        71.309865\n",
              "std        358.368825\n",
              "min          0.000000\n",
              "25%         11.000000\n",
              "50%         23.000000\n",
              "75%         50.000000\n",
              "max      16000.000000\n",
              "Name: Campus Size, dtype: float64"
            ]
          },
          "metadata": {},
          "execution_count": 23
        }
      ],
      "source": [
        "# getting the overview of the data\n",
        "engg_colleges[\"Campus Size\"].describe()"
      ]
    },
    {
      "cell_type": "markdown",
      "id": "d544d4cc",
      "metadata": {
        "id": "d544d4cc"
      },
      "source": [
        "### 4. Total Student Enrollments : This column is already clean and contains some null values"
      ]
    },
    {
      "cell_type": "code",
      "execution_count": null,
      "id": "4ccecc76",
      "metadata": {
        "id": "4ccecc76",
        "outputId": "c413d5e7-dfc3-4e3d-f4b1-93c507a6f6cd",
        "colab": {
          "base_uri": "https://localhost:8080/"
        }
      },
      "outputs": [
        {
          "output_type": "execute_result",
          "data": {
            "text/plain": [
              "903"
            ]
          },
          "metadata": {},
          "execution_count": 24
        }
      ],
      "source": [
        "# checking for null values\n",
        "engg_colleges[\"Total Student Enrollments\"].isna().sum()"
      ]
    },
    {
      "cell_type": "code",
      "execution_count": null,
      "id": "67e5afd7",
      "metadata": {
        "id": "67e5afd7",
        "outputId": "00bf01e9-27a9-416e-e76f-3aab35f9960a",
        "colab": {
          "base_uri": "https://localhost:8080/"
        }
      },
      "outputs": [
        {
          "output_type": "execute_result",
          "data": {
            "text/plain": [
              "dtype('float64')"
            ]
          },
          "metadata": {},
          "execution_count": 25
        }
      ],
      "source": [
        "# checking the data type for Total Student Enrollments \n",
        "engg_colleges[\"Total Student Enrollments\"].dtype"
      ]
    },
    {
      "cell_type": "code",
      "execution_count": null,
      "id": "ffe4f8b9",
      "metadata": {
        "id": "ffe4f8b9",
        "outputId": "5340b9a6-41aa-4ce1-f39b-7a13ee64cf5d",
        "colab": {
          "base_uri": "https://localhost:8080/"
        }
      },
      "outputs": [
        {
          "output_type": "execute_result",
          "data": {
            "text/plain": [
              "count    3.927000e+03\n",
              "mean     2.048035e+03\n",
              "std      1.957238e+04\n",
              "min      1.000000e+00\n",
              "25%      4.150000e+02\n",
              "50%      8.360000e+02\n",
              "75%      1.610500e+03\n",
              "max      1.035081e+06\n",
              "Name: Total Student Enrollments, dtype: float64"
            ]
          },
          "metadata": {},
          "execution_count": 26
        }
      ],
      "source": [
        "# getting the overview of the data\n",
        "engg_colleges[\"Total Student Enrollments\"].describe()"
      ]
    },
    {
      "cell_type": "markdown",
      "id": "a4340ce9",
      "metadata": {
        "id": "a4340ce9"
      },
      "source": [
        "### 5. Total Faculty : This column is already clean and contains some null values"
      ]
    },
    {
      "cell_type": "code",
      "execution_count": null,
      "id": "e5410fb1",
      "metadata": {
        "id": "e5410fb1",
        "outputId": "10a446ef-3762-47f7-e295-30f7ab3f4c1b",
        "colab": {
          "base_uri": "https://localhost:8080/"
        }
      },
      "outputs": [
        {
          "output_type": "execute_result",
          "data": {
            "text/plain": [
              "143"
            ]
          },
          "metadata": {},
          "execution_count": 27
        }
      ],
      "source": [
        "# checking for null values\n",
        "engg_colleges[\"Total Faculty\"].isna().sum()"
      ]
    },
    {
      "cell_type": "code",
      "execution_count": null,
      "id": "f8354630",
      "metadata": {
        "id": "f8354630",
        "outputId": "67fbd16f-98e8-431f-b6a5-54658ed4e0a6",
        "colab": {
          "base_uri": "https://localhost:8080/"
        }
      },
      "outputs": [
        {
          "output_type": "execute_result",
          "data": {
            "text/plain": [
              "dtype('float64')"
            ]
          },
          "metadata": {},
          "execution_count": 28
        }
      ],
      "source": [
        "# checking the data type for Total Faculty\n",
        "engg_colleges[\"Total Faculty\"].dtype"
      ]
    },
    {
      "cell_type": "code",
      "execution_count": null,
      "id": "3d5435a8",
      "metadata": {
        "id": "3d5435a8",
        "outputId": "502d2084-abff-424e-b86b-d6209617d346",
        "colab": {
          "base_uri": "https://localhost:8080/"
        }
      },
      "outputs": [
        {
          "output_type": "execute_result",
          "data": {
            "text/plain": [
              "count    4687.000000\n",
              "mean      102.620226\n",
              "std       118.255767\n",
              "min         1.000000\n",
              "25%        42.000000\n",
              "50%        74.000000\n",
              "75%       129.000000\n",
              "max      2453.000000\n",
              "Name: Total Faculty, dtype: float64"
            ]
          },
          "metadata": {},
          "execution_count": 29
        }
      ],
      "source": [
        "# getting the overview of the data\n",
        "engg_colleges[\"Total Faculty\"].describe()"
      ]
    },
    {
      "cell_type": "code",
      "execution_count": null,
      "id": "03d90012",
      "metadata": {
        "id": "03d90012",
        "outputId": "5781f7c3-bc30-4a4d-b2ac-6b693ff70882",
        "colab": {
          "base_uri": "https://localhost:8080/",
          "height": 469
        }
      },
      "outputs": [
        {
          "output_type": "execute_result",
          "data": {
            "text/plain": [
              "<Axes: xlabel='Total Faculty', ylabel='Count'>"
            ]
          },
          "metadata": {},
          "execution_count": 30
        },
        {
          "output_type": "display_data",
          "data": {
            "text/plain": [
              "<Figure size 640x480 with 1 Axes>"
            ],
            "image/png": "[encoded data removed]"
          },
          "metadata": {}
        }
      ],
      "source": [
        "sns.histplot(data=engg_colleges[\"Total Faculty\"], bins=80)"
      ]
    },
    {
      "cell_type": "markdown",
      "id": "6ef89854",
      "metadata": {
        "id": "6ef89854"
      },
      "source": [
        "### 6. Established Year: This column is already clean and contains some null values"
      ]
    },
    {
      "cell_type": "code",
      "execution_count": null,
      "id": "95ea5b30",
      "metadata": {
        "id": "95ea5b30",
        "outputId": "19895239-ee55-43c0-814c-3130730d70d2",
        "colab": {
          "base_uri": "https://localhost:8080/"
        }
      },
      "outputs": [
        {
          "output_type": "execute_result",
          "data": {
            "text/plain": [
              "95"
            ]
          },
          "metadata": {},
          "execution_count": 31
        }
      ],
      "source": [
        "# checking for null values\n",
        "engg_colleges[\"Established Year\"].isna().sum()"
      ]
    },
    {
      "cell_type": "code",
      "execution_count": null,
      "id": "07f80fa3",
      "metadata": {
        "id": "07f80fa3",
        "outputId": "1f5b3789-d9f7-4061-b0c2-a186bdad746a",
        "colab": {
          "base_uri": "https://localhost:8080/"
        }
      },
      "outputs": [
        {
          "output_type": "execute_result",
          "data": {
            "text/plain": [
              "dtype('float64')"
            ]
          },
          "metadata": {},
          "execution_count": 32
        }
      ],
      "source": [
        "# checking the data type for Established Year\n",
        "engg_colleges[\"Established Year\"].dtype"
      ]
    },
    {
      "cell_type": "code",
      "execution_count": null,
      "id": "2409fbd0",
      "metadata": {
        "id": "2409fbd0",
        "outputId": "389b8282-74c2-4b53-ce79-e9a77b9cdf64",
        "colab": {
          "base_uri": "https://localhost:8080/"
        }
      },
      "outputs": [
        {
          "output_type": "execute_result",
          "data": {
            "text/plain": [
              "count    4735.000000\n",
              "mean     2000.954382\n",
              "std        15.723504\n",
              "min      1857.000000\n",
              "25%      1999.000000\n",
              "50%      2007.000000\n",
              "75%      2009.000000\n",
              "max      2019.000000\n",
              "Name: Established Year, dtype: float64"
            ]
          },
          "metadata": {},
          "execution_count": 33
        }
      ],
      "source": [
        "# getting the overview of the data\n",
        "engg_colleges[\"Established Year\"].describe()"
      ]
    },
    {
      "cell_type": "code",
      "execution_count": null,
      "id": "eef4b89d",
      "metadata": {
        "id": "eef4b89d",
        "outputId": "2f55046b-d51c-479d-a5cb-9d90baa755d8",
        "colab": {
          "base_uri": "https://localhost:8080/",
          "height": 467
        }
      },
      "outputs": [
        {
          "output_type": "execute_result",
          "data": {
            "text/plain": [
              "<Axes: xlabel='Established Year', ylabel='Count'>"
            ]
          },
          "metadata": {},
          "execution_count": 34
        },
        {
          "output_type": "display_data",
          "data": {
            "text/plain": [
              "<Figure size 640x480 with 1 Axes>"
            ],
            "image/png": "[encoded data removed]"
          },
          "metadata": {}
        }
      ],
      "source": [
        "sns.histplot(data=engg_colleges[\"Established Year\"], bins=80)"
      ]
    },
    {
      "cell_type": "markdown",
      "id": "3ee2b13b",
      "metadata": {
        "id": "3ee2b13b"
      },
      "source": [
        "### 7. Rating: This column has almost all null values and has required data type"
      ]
    },
    {
      "cell_type": "code",
      "execution_count": null,
      "id": "973586f7",
      "metadata": {
        "id": "973586f7",
        "outputId": "6ee11a41-1d8f-4ebd-e333-2017b8f6a907",
        "colab": {
          "base_uri": "https://localhost:8080/"
        }
      },
      "outputs": [
        {
          "output_type": "execute_result",
          "data": {
            "text/plain": [
              "4510"
            ]
          },
          "metadata": {},
          "execution_count": 35
        }
      ],
      "source": [
        "# checking for null values\n",
        "engg_colleges[\"Rating\"].isna().sum()"
      ]
    },
    {
      "cell_type": "code",
      "execution_count": null,
      "id": "785fc751",
      "metadata": {
        "id": "785fc751",
        "outputId": "ed768742-c747-47d7-92ed-625b04719502",
        "colab": {
          "base_uri": "https://localhost:8080/"
        }
      },
      "outputs": [
        {
          "output_type": "execute_result",
          "data": {
            "text/plain": [
              "dtype('float64')"
            ]
          },
          "metadata": {},
          "execution_count": 36
        }
      ],
      "source": [
        "# checking the data type for Rating\n",
        "engg_colleges[\"Rating\"].dtype"
      ]
    },
    {
      "cell_type": "code",
      "execution_count": null,
      "id": "7790020e",
      "metadata": {
        "id": "7790020e",
        "outputId": "7ea7d837-1bae-47c9-84f2-4a2418652d9e",
        "colab": {
          "base_uri": "https://localhost:8080/",
          "height": 453
        }
      },
      "outputs": [
        {
          "output_type": "execute_result",
          "data": {
            "text/plain": [
              "<Axes: xlabel='Rating', ylabel='Rating'>"
            ]
          },
          "metadata": {},
          "execution_count": 37
        },
        {
          "output_type": "display_data",
          "data": {
            "text/plain": [
              "<Figure size 640x480 with 1 Axes>"
            ],
            "image/png": "[encoded data removed]"
          },
          "metadata": {}
        }
      ],
      "source": [
        "plt.xlabel(\"Rating\")\n",
        "sns.boxplot(data=engg_colleges[\"Rating\"], y=engg_colleges[\"Rating\"])"
      ]
    },
    {
      "cell_type": "markdown",
      "id": "ca1ea455",
      "metadata": {
        "id": "ca1ea455"
      },
      "source": [
        "### 8. University: This column can be normalized into a different table and contains some null values"
      ]
    },
    {
      "cell_type": "code",
      "execution_count": null,
      "id": "cf0c46e8",
      "metadata": {
        "id": "cf0c46e8",
        "outputId": "7e43ce58-e63f-4a42-d32c-d0c96d90647c",
        "colab": {
          "base_uri": "https://localhost:8080/"
        }
      },
      "outputs": [
        {
          "output_type": "execute_result",
          "data": {
            "text/plain": [
              "1640"
            ]
          },
          "metadata": {},
          "execution_count": 38
        }
      ],
      "source": [
        "# checking for null values.\n",
        "engg_colleges[\"University\"].isna().sum()"
      ]
    },
    {
      "cell_type": "code",
      "execution_count": null,
      "id": "723a99ae",
      "metadata": {
        "id": "723a99ae",
        "outputId": "8ee880ea-1733-41a2-d29f-c299e9a8d1b7",
        "colab": {
          "base_uri": "https://localhost:8080/",
          "height": 35
        }
      },
      "outputs": [
        {
          "output_type": "execute_result",
          "data": {
            "text/plain": [
              "'There are 185 unique universities present'"
            ],
            "application/vnd.google.colaboratory.intrinsic+json": {
              "type": "string"
            }
          },
          "metadata": {},
          "execution_count": 39
        }
      ],
      "source": [
        "# getting the count of unique universities\n",
        "f\"There are {len(set(list(engg_colleges['University'])))} unique universities present\""
      ]
    },
    {
      "cell_type": "code",
      "execution_count": null,
      "id": "a3a5154a",
      "metadata": {
        "scrolled": false,
        "id": "a3a5154a",
        "outputId": "995fe946-2da9-4b0b-b579-0716276ce624",
        "colab": {
          "base_uri": "https://localhost:8080/"
        }
      },
      "outputs": [
        {
          "output_type": "execute_result",
          "data": {
            "text/plain": [
              "185"
            ]
          },
          "metadata": {},
          "execution_count": 40
        }
      ],
      "source": [
        "# getting the lenght of unique universities \n",
        "len(set(list(engg_colleges['University'])))"
      ]
    },
    {
      "cell_type": "code",
      "source": [
        "engg_colleges.University.value_counts().iloc[1:10]"
      ],
      "metadata": {
        "colab": {
          "base_uri": "https://localhost:8080/"
        },
        "id": "94O0-lLvE18X",
        "outputId": "615e07d5-9f79-4d1c-b081-9c6122b279ab"
      },
      "id": "94O0-lLvE18X",
      "execution_count": null,
      "outputs": [
        {
          "output_type": "execute_result",
          "data": {
            "text/plain": [
              "Dr APJ Abdul Kalam Technical University, Lucknow                261\n",
              "Jawaharlal Nehru Technological University, Hyderabad            236\n",
              "Jawaharlal Nehru Technological University, Kakinada             183\n",
              "Rajiv Gandhi Proudyogiki Vishwavidyalaya, Bhopal                182\n",
              "Gujarat Technological University, Ahmedabad                     163\n",
              "Visvesvaraya Technological University, Belagavi                 163\n",
              "Savitribai Phule Pune University, Pune                          123\n",
              "APJ Abdul Kalam Technological University, Thiruvananthapuram    119\n",
              "Jawaharlal Nehru Technological University, Anantapur            106\n",
              "Name: University, dtype: int64"
            ]
          },
          "metadata": {},
          "execution_count": 41
        }
      ]
    },
    {
      "cell_type": "code",
      "execution_count": null,
      "id": "dbd8d97d",
      "metadata": {
        "id": "dbd8d97d",
        "outputId": "f30bfe79-5185-4c26-df9c-1bc6a3dfc9ea",
        "colab": {
          "base_uri": "https://localhost:8080/",
          "height": 467
        }
      },
      "outputs": [
        {
          "output_type": "execute_result",
          "data": {
            "text/plain": [
              "<Axes: xlabel='count', ylabel='University'>"
            ]
          },
          "metadata": {},
          "execution_count": 42
        },
        {
          "output_type": "display_data",
          "data": {
            "text/plain": [
              "<Figure size 640x480 with 1 Axes>"
            ],
            "image/png": "[encoded data removed]"
          },
          "metadata": {}
        }
      ],
      "source": [
        "# plotting the top 25 university counts\n",
        "sns.countplot(data=engg_colleges, y=engg_colleges[\"University\"], order=engg_colleges.University.value_counts().iloc[1:10].index)"
      ]
    },
    {
      "cell_type": "markdown",
      "id": "2357cac5",
      "metadata": {
        "id": "2357cac5"
      },
      "source": [
        "### 9. Courses : This column contains comma separated values of all the courses that the specific university offers. This can be normalized into a different table and corresponding course values can be stored for specific college. "
      ]
    },
    {
      "cell_type": "code",
      "execution_count": null,
      "id": "fc4ece28",
      "metadata": {
        "id": "fc4ece28",
        "outputId": "4a89fb2a-a83d-4aeb-fd20-2bf7c132019f",
        "colab": {
          "base_uri": "https://localhost:8080/"
        }
      },
      "outputs": [
        {
          "output_type": "execute_result",
          "data": {
            "text/plain": [
              "0"
            ]
          },
          "metadata": {},
          "execution_count": 43
        }
      ],
      "source": [
        "engg_colleges[\"Courses\"].isna().sum()"
      ]
    },
    {
      "cell_type": "code",
      "execution_count": null,
      "id": "a4c61403",
      "metadata": {
        "scrolled": false,
        "id": "a4c61403",
        "outputId": "523a9001-1acd-470a-de51-7a8313630f91",
        "colab": {
          "base_uri": "https://localhost:8080/"
        }
      },
      "outputs": [
        {
          "output_type": "execute_result",
          "data": {
            "text/plain": [
              "12043"
            ]
          },
          "metadata": {},
          "execution_count": 44
        }
      ],
      "source": [
        "# splitting the comma separated courses \n",
        "courses = engg_colleges[\"Courses\"].str.split(\", \")\n",
        "\n",
        "course_set = set()\n",
        "\n",
        "# adding the unique courses in the course set.\n",
        "for course_list in courses:\n",
        "    for course in course_list:\n",
        "        course_set.add(course)\n",
        "        \n",
        "len(course_set)"
      ]
    },
    {
      "cell_type": "markdown",
      "id": "02795675",
      "metadata": {
        "id": "02795675"
      },
      "source": [
        "### 10. Facilities : This column contains comma separated values of all the Facilities that a particular college offers. This can be normalized into a different table and the corresponding values can be stored for specific college. "
      ]
    },
    {
      "cell_type": "code",
      "execution_count": null,
      "id": "e46874d5",
      "metadata": {
        "id": "e46874d5",
        "outputId": "44b8f5c7-e93e-4889-dcf5-1ff99699c6c9",
        "colab": {
          "base_uri": "https://localhost:8080/"
        }
      },
      "outputs": [
        {
          "output_type": "execute_result",
          "data": {
            "text/plain": [
              "12"
            ]
          },
          "metadata": {},
          "execution_count": 45
        }
      ],
      "source": [
        "# getting the count of null values\n",
        "engg_colleges[\"Facilities\"].isna().sum()"
      ]
    },
    {
      "cell_type": "code",
      "execution_count": null,
      "id": "379e708a",
      "metadata": {
        "id": "379e708a"
      },
      "outputs": [],
      "source": [
        "# extracting the facilities for all the colleges\n",
        "facilities = engg_colleges[\"Facilities\"]"
      ]
    },
    {
      "cell_type": "code",
      "execution_count": null,
      "id": "ad782d36",
      "metadata": {
        "id": "ad782d36",
        "outputId": "50c2c3fa-6d1a-4924-e192-59b0faa91eaf",
        "colab": {
          "base_uri": "https://localhost:8080/"
        }
      },
      "outputs": [
        {
          "output_type": "execute_result",
          "data": {
            "text/plain": [
              "{'Boys Hostel': 3738,\n",
              " 'Girls Hostel': 3805,\n",
              " 'Gym': 2594,\n",
              " 'Library': 4798,\n",
              " 'Sports': 4365,\n",
              " 'Cafeteria': 3887,\n",
              " 'Medical/Hospital': 3238,\n",
              " 'Wifi': 2190,\n",
              " 'IT Infrastructure': 4739,\n",
              " 'Laboratories': 4232,\n",
              " 'Swimming Pool': 182,\n",
              " 'Convenience Store': 688,\n",
              " 'Alumni Associations': 2408,\n",
              " 'Guest Room': 1758,\n",
              " 'Banks Facilities': 1134,\n",
              " 'Auditorium': 3321,\n",
              " 'Transport': 3108,\n",
              " 'Classrooms': 354,\n",
              " 'Parking Facility': 343,\n",
              " 'Moot Court': 16}"
            ]
          },
          "metadata": {},
          "execution_count": 47
        }
      ],
      "source": [
        "facility_dict = {}\n",
        "\n",
        "for college_facility in facilities:\n",
        "    if type(college_facility) != str:\n",
        "        continue\n",
        "        \n",
        "    facility_list = college_facility.split(\", \")\n",
        "    for facility in facility_list:\n",
        "        if facility not in facility_dict.keys():\n",
        "            facility_dict[facility] = 1\n",
        "        else:\n",
        "            facility_dict[facility] += 1\n",
        "\n",
        "facility_dict"
      ]
    },
    {
      "cell_type": "code",
      "execution_count": null,
      "id": "fe60365b",
      "metadata": {
        "id": "fe60365b"
      },
      "outputs": [],
      "source": [
        "# sorting the facility dictionary\n",
        "sorted_facility_list = sorted(facility_dict.items(), key=lambda x:x[1], reverse=True)\n",
        "\n",
        "# extracting the keys and values\n",
        "keys = [x[0] for x in sorted_facility_list]\n",
        "values = [x[1] for x in sorted_facility_list]"
      ]
    },
    {
      "cell_type": "code",
      "execution_count": null,
      "id": "744a1806",
      "metadata": {
        "id": "744a1806",
        "outputId": "45b7dfe2-83f5-40bb-b535-5c88164bb4a0",
        "colab": {
          "base_uri": "https://localhost:8080/",
          "height": 448
        }
      },
      "outputs": [
        {
          "output_type": "execute_result",
          "data": {
            "text/plain": [
              "<Axes: >"
            ]
          },
          "metadata": {},
          "execution_count": 49
        },
        {
          "output_type": "display_data",
          "data": {
            "text/plain": [
              "<Figure size 640x480 with 1 Axes>"
            ],
            "image/png": "[encoded data removed]"
          },
          "metadata": {}
        }
      ],
      "source": [
        "# drawing the bar plot\n",
        "sns.barplot(x=values, y=keys)"
      ]
    },
    {
      "cell_type": "markdown",
      "id": "8e78a251",
      "metadata": {
        "id": "8e78a251"
      },
      "source": [
        "### 11. City : This column contains city values for the corresponding colleges, and can be normalized into a different table.  "
      ]
    },
    {
      "cell_type": "code",
      "execution_count": null,
      "id": "9c277307",
      "metadata": {
        "id": "9c277307",
        "outputId": "7738fe4c-8695-494b-c5b3-80ae897baf32",
        "colab": {
          "base_uri": "https://localhost:8080/"
        }
      },
      "outputs": [
        {
          "output_type": "execute_result",
          "data": {
            "text/plain": [
              "0"
            ]
          },
          "metadata": {},
          "execution_count": 50
        }
      ],
      "source": [
        "# checking for null values\n",
        "engg_colleges[\"City\"].isna().sum()"
      ]
    },
    {
      "cell_type": "code",
      "execution_count": null,
      "id": "14c2c747",
      "metadata": {
        "id": "14c2c747",
        "outputId": "dbbf78bc-60bc-487f-c882-119ae7079d48",
        "colab": {
          "base_uri": "https://localhost:8080/",
          "height": 35
        }
      },
      "outputs": [
        {
          "output_type": "execute_result",
          "data": {
            "text/plain": [
              "'There are 2137 unique cities present'"
            ],
            "application/vnd.google.colaboratory.intrinsic+json": {
              "type": "string"
            }
          },
          "metadata": {},
          "execution_count": 51
        }
      ],
      "source": [
        "# getting the count of unique cities\n",
        "f\"There are {len(set(list(engg_colleges['City'])))} unique cities present\""
      ]
    },
    {
      "cell_type": "code",
      "execution_count": null,
      "id": "1b17edc4",
      "metadata": {
        "scrolled": false,
        "id": "1b17edc4",
        "outputId": "3c886f03-b4ee-4f22-ae64-b004a54185f1",
        "colab": {
          "base_uri": "https://localhost:8080/"
        }
      },
      "outputs": [
        {
          "output_type": "execute_result",
          "data": {
            "text/plain": [
              "2137"
            ]
          },
          "metadata": {},
          "execution_count": 52
        }
      ],
      "source": [
        "# getting the list of unique cities\n",
        "len(set(list(engg_colleges['City'])))"
      ]
    },
    {
      "cell_type": "code",
      "execution_count": null,
      "id": "ba1ea18e",
      "metadata": {
        "id": "ba1ea18e",
        "outputId": "06a4a276-ba82-4281-a3a2-834513639236",
        "colab": {
          "base_uri": "https://localhost:8080/",
          "height": 467
        }
      },
      "outputs": [
        {
          "output_type": "execute_result",
          "data": {
            "text/plain": [
              "<Axes: xlabel='count', ylabel='City'>"
            ]
          },
          "metadata": {},
          "execution_count": 53
        },
        {
          "output_type": "display_data",
          "data": {
            "text/plain": [
              "<Figure size 640x480 with 1 Axes>"
            ],
            "image/png": "[encoded data removed]"
          },
          "metadata": {}
        }
      ],
      "source": [
        "# Getting the top 25 cities containing most universities\n",
        "sns.countplot(data=engg_colleges, y=engg_colleges[\"City\"], order=engg_colleges.City.value_counts().iloc[:25].index)"
      ]
    },
    {
      "cell_type": "markdown",
      "id": "14d1b3c2",
      "metadata": {
        "id": "14d1b3c2"
      },
      "source": [
        "### 12. State : This column contains state values for the corresponding colleges, and can be normalized into a different table."
      ]
    },
    {
      "cell_type": "code",
      "execution_count": null,
      "id": "36f7727f",
      "metadata": {
        "id": "36f7727f",
        "outputId": "76934275-f8ed-42b4-ae4c-56026fb0aeea",
        "colab": {
          "base_uri": "https://localhost:8080/"
        }
      },
      "outputs": [
        {
          "output_type": "execute_result",
          "data": {
            "text/plain": [
              "0"
            ]
          },
          "metadata": {},
          "execution_count": 54
        }
      ],
      "source": [
        "# checking for null values\n",
        "engg_colleges[\"State\"].isna().sum()"
      ]
    },
    {
      "cell_type": "code",
      "execution_count": null,
      "id": "27564c23",
      "metadata": {
        "id": "27564c23",
        "outputId": "3ec08369-7135-4b48-f42b-73fd701cd40d",
        "colab": {
          "base_uri": "https://localhost:8080/",
          "height": 35
        }
      },
      "outputs": [
        {
          "output_type": "execute_result",
          "data": {
            "text/plain": [
              "'There are 34 unique states present'"
            ],
            "application/vnd.google.colaboratory.intrinsic+json": {
              "type": "string"
            }
          },
          "metadata": {},
          "execution_count": 55
        }
      ],
      "source": [
        "# getting the count of unique cities\n",
        "f\"There are {len(set(list(engg_colleges['State'])))} unique states present\""
      ]
    },
    {
      "cell_type": "code",
      "execution_count": null,
      "id": "af034488",
      "metadata": {
        "id": "af034488",
        "outputId": "0afb4ff7-32fa-492e-b90a-0ff8a8ccab01",
        "colab": {
          "base_uri": "https://localhost:8080/"
        }
      },
      "outputs": [
        {
          "output_type": "execute_result",
          "data": {
            "text/plain": [
              "{'Andaman and Nicobar Islands',\n",
              " 'Andhra Pradesh',\n",
              " 'Arunachal Pradesh',\n",
              " 'Assam',\n",
              " 'Bihar',\n",
              " 'Chandigarh',\n",
              " 'Chhattisgarh',\n",
              " 'Dadra and Nagar Haveli',\n",
              " 'Delhi',\n",
              " 'Goa',\n",
              " 'Gujarat',\n",
              " 'Haryana',\n",
              " 'Himachal Pradesh',\n",
              " 'Jammu and Kashmir',\n",
              " 'Jharkhand',\n",
              " 'Karnataka',\n",
              " 'Kerala',\n",
              " 'Madhya Pradesh',\n",
              " 'Maharashtra',\n",
              " 'Manipur',\n",
              " 'Meghalaya',\n",
              " 'Mizoram',\n",
              " 'Nagaland',\n",
              " 'Odisha',\n",
              " 'Puducherry',\n",
              " 'Punjab',\n",
              " 'Rajasthan',\n",
              " 'Sikkim',\n",
              " 'Tamil Nadu',\n",
              " 'Telangana',\n",
              " 'Tripura',\n",
              " 'Uttar Pradesh',\n",
              " 'Uttarakhand',\n",
              " 'West Bengal'}"
            ]
          },
          "metadata": {},
          "execution_count": 56
        }
      ],
      "source": [
        "# getting the list of unique States\n",
        "set(list(engg_colleges['State']))"
      ]
    },
    {
      "cell_type": "code",
      "execution_count": null,
      "id": "d33f661a",
      "metadata": {
        "id": "d33f661a",
        "outputId": "c46f68ca-f824-4351-a9a7-dedbbd398900",
        "colab": {
          "base_uri": "https://localhost:8080/",
          "height": 467
        }
      },
      "outputs": [
        {
          "output_type": "execute_result",
          "data": {
            "text/plain": [
              "<Axes: xlabel='count', ylabel='State'>"
            ]
          },
          "metadata": {},
          "execution_count": 57
        },
        {
          "output_type": "display_data",
          "data": {
            "text/plain": [
              "<Figure size 640x480 with 1 Axes>"
            ],
            "image/png": "[encoded data removed]"
          },
          "metadata": {}
        }
      ],
      "source": [
        "# top 25 states containing most universities\n",
        "sns.countplot(data=engg_colleges, y=engg_colleges[\"State\"], order=engg_colleges.State.value_counts().iloc[:25].index)"
      ]
    },
    {
      "cell_type": "markdown",
      "id": "0eed30e4",
      "metadata": {
        "id": "0eed30e4"
      },
      "source": [
        "### 13. Country : This column contains only 1 value i.e India. We can create a new table to scale up the system and accomodate new countries"
      ]
    },
    {
      "cell_type": "code",
      "execution_count": null,
      "id": "19098768",
      "metadata": {
        "id": "19098768",
        "outputId": "3c16d09c-f415-4f06-e1c8-982b82b54a14",
        "colab": {
          "base_uri": "https://localhost:8080/"
        }
      },
      "outputs": [
        {
          "output_type": "execute_result",
          "data": {
            "text/plain": [
              "0"
            ]
          },
          "metadata": {},
          "execution_count": 58
        }
      ],
      "source": [
        "# checking for null values\n",
        "engg_colleges[\"Country\"].isna().sum()"
      ]
    },
    {
      "cell_type": "code",
      "execution_count": null,
      "id": "8cfc3e3a",
      "metadata": {
        "id": "8cfc3e3a",
        "outputId": "83915eb9-ef73-451f-dcc5-a7cb51d1c887",
        "colab": {
          "base_uri": "https://localhost:8080/",
          "height": 35
        }
      },
      "outputs": [
        {
          "output_type": "execute_result",
          "data": {
            "text/plain": [
              "'There is 1 unique country present'"
            ],
            "application/vnd.google.colaboratory.intrinsic+json": {
              "type": "string"
            }
          },
          "metadata": {},
          "execution_count": 59
        }
      ],
      "source": [
        "# getting the count of unique country\n",
        "f\"There is {len(set(list(engg_colleges['Country'])))} unique country present\""
      ]
    },
    {
      "cell_type": "code",
      "execution_count": null,
      "id": "344a4b9f",
      "metadata": {
        "id": "344a4b9f",
        "outputId": "a4905a3b-ee34-4b56-bcc4-b82f21dfd661",
        "colab": {
          "base_uri": "https://localhost:8080/"
        }
      },
      "outputs": [
        {
          "output_type": "execute_result",
          "data": {
            "text/plain": [
              "{'India'}"
            ]
          },
          "metadata": {},
          "execution_count": 60
        }
      ],
      "source": [
        "# getting the list of unique Country\n",
        "set(list(engg_colleges['Country']))"
      ]
    },
    {
      "cell_type": "markdown",
      "id": "48c13295",
      "metadata": {
        "id": "48c13295"
      },
      "source": [
        "### 14. College Type : This column contains different college types and can be normalized to create a new table"
      ]
    },
    {
      "cell_type": "code",
      "execution_count": null,
      "id": "b74a15f2",
      "metadata": {
        "id": "b74a15f2",
        "outputId": "309f63f8-d8de-4c21-85e4-56b34577e2bc",
        "colab": {
          "base_uri": "https://localhost:8080/"
        }
      },
      "outputs": [
        {
          "output_type": "execute_result",
          "data": {
            "text/plain": [
              "1"
            ]
          },
          "metadata": {},
          "execution_count": 61
        }
      ],
      "source": [
        "# checking for null values\n",
        "engg_colleges[\"College Type\"].isna().sum()"
      ]
    },
    {
      "cell_type": "code",
      "execution_count": null,
      "id": "4ca22b81",
      "metadata": {
        "id": "4ca22b81",
        "outputId": "d1387c90-88e3-48f1-e76c-54ea6374f5aa",
        "colab": {
          "base_uri": "https://localhost:8080/",
          "height": 35
        }
      },
      "outputs": [
        {
          "output_type": "execute_result",
          "data": {
            "text/plain": [
              "'There are 3 unique college types present'"
            ],
            "application/vnd.google.colaboratory.intrinsic+json": {
              "type": "string"
            }
          },
          "metadata": {},
          "execution_count": 62
        }
      ],
      "source": [
        "# getting the count of unique college types\n",
        "f\"There are {len(set(list(engg_colleges['College Type'])))} unique college types present\""
      ]
    },
    {
      "cell_type": "code",
      "execution_count": null,
      "id": "77959ac6",
      "metadata": {
        "id": "77959ac6",
        "outputId": "3b4658d2-01f2-4698-fe73-7202ed2ded96",
        "colab": {
          "base_uri": "https://localhost:8080/"
        }
      },
      "outputs": [
        {
          "output_type": "execute_result",
          "data": {
            "text/plain": [
              "{'Private', 'Public/Government', nan}"
            ]
          },
          "metadata": {},
          "execution_count": 63
        }
      ],
      "source": [
        "# getting the list of unique college types\n",
        "set(list(engg_colleges['College Type']))"
      ]
    },
    {
      "cell_type": "code",
      "execution_count": null,
      "id": "74e96974",
      "metadata": {
        "id": "74e96974",
        "outputId": "11ae54f5-1c80-479c-ac0f-469854bbaa16",
        "colab": {
          "base_uri": "https://localhost:8080/",
          "height": 467
        }
      },
      "outputs": [
        {
          "output_type": "execute_result",
          "data": {
            "text/plain": [
              "<Axes: xlabel='College Type', ylabel='count'>"
            ]
          },
          "metadata": {},
          "execution_count": 64
        },
        {
          "output_type": "display_data",
          "data": {
            "text/plain": [
              "<Figure size 640x480 with 1 Axes>"
            ],
            "image/png": "[encoded data removed]"
          },
          "metadata": {}
        }
      ],
      "source": [
        "# count plot for colleges\n",
        "sns.countplot(data=engg_colleges, x=engg_colleges[\"College Type\"])"
      ]
    },
    {
      "cell_type": "markdown",
      "id": "bf01841e",
      "metadata": {
        "id": "bf01841e"
      },
      "source": [
        "### 15. Average Fees : This column contains average fees for the colleges."
      ]
    },
    {
      "cell_type": "code",
      "execution_count": null,
      "id": "d688cd13",
      "metadata": {
        "id": "d688cd13",
        "outputId": "804e74f5-62b1-4827-a08a-deef69f770b3",
        "colab": {
          "base_uri": "https://localhost:8080/"
        }
      },
      "outputs": [
        {
          "output_type": "execute_result",
          "data": {
            "text/plain": [
              "0"
            ]
          },
          "metadata": {},
          "execution_count": 65
        }
      ],
      "source": [
        "# checking for null values\n",
        "engg_colleges[\"Average Fees\"].isna().sum()"
      ]
    },
    {
      "cell_type": "code",
      "execution_count": null,
      "id": "f0b2094a",
      "metadata": {
        "id": "f0b2094a",
        "outputId": "67b389d1-7c9d-4085-979c-11d25fa9cac2",
        "colab": {
          "base_uri": "https://localhost:8080/"
        }
      },
      "outputs": [
        {
          "output_type": "execute_result",
          "data": {
            "text/plain": [
              "dtype('float64')"
            ]
          },
          "metadata": {},
          "execution_count": 66
        }
      ],
      "source": [
        "# getting the overview of the data\n",
        "engg_colleges[\"Average Fees\"].dtype"
      ]
    },
    {
      "cell_type": "code",
      "execution_count": null,
      "id": "33d5becb",
      "metadata": {
        "id": "33d5becb",
        "outputId": "84223292-01ac-44f4-d471-4b5680b8456e",
        "colab": {
          "base_uri": "https://localhost:8080/"
        }
      },
      "outputs": [
        {
          "output_type": "execute_result",
          "data": {
            "text/plain": [
              "count    4.830000e+03\n",
              "mean     1.945764e+05\n",
              "std      1.778316e+05\n",
              "min      3.000000e+02\n",
              "25%      9.945854e+04\n",
              "50%      1.600000e+05\n",
              "75%      2.452497e+05\n",
              "max      3.578597e+06\n",
              "Name: Average Fees, dtype: float64"
            ]
          },
          "metadata": {},
          "execution_count": 67
        }
      ],
      "source": [
        "engg_colleges[\"Average Fees\"].describe()"
      ]
    },
    {
      "cell_type": "code",
      "execution_count": null,
      "id": "1dbb8346",
      "metadata": {
        "id": "1dbb8346",
        "outputId": "6a944fc3-db60-455e-c28b-5a1932cc6ee0",
        "colab": {
          "base_uri": "https://localhost:8080/",
          "height": 467
        }
      },
      "outputs": [
        {
          "output_type": "execute_result",
          "data": {
            "text/plain": [
              "<Axes: xlabel='Average Fees', ylabel='Count'>"
            ]
          },
          "metadata": {},
          "execution_count": 68
        },
        {
          "output_type": "display_data",
          "data": {
            "text/plain": [
              "<Figure size 640x480 with 1 Axes>"
            ],
            "image/png": "[encoded data removed]"
          },
          "metadata": {}
        }
      ],
      "source": [
        "sns.histplot(data=engg_colleges[\"Average Fees\"], bins=60)"
      ]
    },
    {
      "cell_type": "markdown",
      "source": [
        "## Fill NaN values"
      ],
      "metadata": {
        "id": "w1xma352PGw1"
      },
      "id": "w1xma352PGw1"
    },
    {
      "cell_type": "code",
      "execution_count": null,
      "id": "49168599",
      "metadata": {
        "id": "49168599",
        "colab": {
          "base_uri": "https://localhost:8080/"
        },
        "outputId": "11d461a5-0538-41f1-d0c7-e5a259748ba0"
      },
      "outputs": [
        {
          "output_type": "stream",
          "name": "stdout",
          "text": [
            "26\n"
          ]
        }
      ],
      "source": [
        "nit = []\n",
        "for c in engg_colleges[engg_colleges['University'].isna() == True]['College Name'].to_list():\n",
        "    if not pd.isna(c) and 'National Institute of Technology' in c:\n",
        "        nit.append(c)\n",
        "print(len(nit))"
      ]
    },
    {
      "cell_type": "markdown",
      "source": [
        "Add University fot BITS"
      ],
      "metadata": {
        "id": "YiotUaenVVoM"
      },
      "id": "YiotUaenVVoM"
    },
    {
      "cell_type": "code",
      "execution_count": null,
      "id": "1fef46ca",
      "metadata": {
        "id": "1fef46ca"
      },
      "outputs": [],
      "source": [
        "# Update BITS university\n",
        "engg_colleges['University'].mask( ((engg_colleges['University'].isna() == True) & (\n",
        "    (engg_colleges['College Name'].str.contains('Birla Institute of Technology')) | (\n",
        "        engg_colleges['College Name'].str.contains('BITS Pilani'))\n",
        "    )), 'BITS' , inplace=True )"
      ]
    },
    {
      "cell_type": "code",
      "source": [
        "# Check if NITs have a univesity\n",
        "nit = []\n",
        "for c in engg_colleges[engg_colleges['University'].isna() == True]['College Name'].to_list():\n",
        "    if 'National Institute of Technology' in c:\n",
        "        nit.append(c)\n",
        "print(len(nit))"
      ],
      "metadata": {
        "colab": {
          "base_uri": "https://localhost:8080/"
        },
        "id": "jYGdeIhZVlLT",
        "outputId": "581f3063-89a7-42c8-bd0a-853126a23abb"
      },
      "id": "jYGdeIhZVlLT",
      "execution_count": null,
      "outputs": [
        {
          "output_type": "stream",
          "name": "stdout",
          "text": [
            "26\n"
          ]
        }
      ]
    },
    {
      "cell_type": "code",
      "execution_count": null,
      "id": "79a25a6f",
      "metadata": {
        "id": "79a25a6f"
      },
      "outputs": [],
      "source": [
        "# Add university for NIT\n",
        "engg_colleges['University'].mask( ((engg_colleges['University'].isna() == True) & (\n",
        "    (engg_colleges['College Name'].str.contains('National Institute of Technology'))\n",
        "    )), 'NIT' , inplace=True )"
      ]
    },
    {
      "cell_type": "code",
      "source": [
        "# Check nif IITs have a university\n",
        "iit = []\n",
        "for c in engg_colleges[engg_colleges['University'].isna() == True]['College Name'].to_list():\n",
        "    if 'Indian Institute of Technology' in c:\n",
        "        print(c)\n",
        "        iit.append(c)\n",
        "len(iit)"
      ],
      "metadata": {
        "id": "xsu-yHlvDV5l",
        "colab": {
          "base_uri": "https://localhost:8080/"
        },
        "outputId": "85c66ed7-1caa-46c7-cb70-0f953b450a2d"
      },
      "id": "xsu-yHlvDV5l",
      "execution_count": null,
      "outputs": [
        {
          "output_type": "stream",
          "name": "stdout",
          "text": [
            "Indian Institute of Technology Hyderabad \n",
            "Indian Institute of Technology Banaras Hindu University Varanasi \n",
            "Indian Institute of Technology Guwahati \n",
            "Indian Institute of Technology Indian School of Mines Dhanbad \n",
            "Indian Institute of Technology Indore \n",
            "Indian Institute of Technology Gandhinagar \n",
            "Indian Institute of Technology Ropar \n",
            "Indian Institute of Technology Bhubaneswar \n",
            "Indian Institute of Technology Patna \n",
            "Indian Institute of Technology Mandi \n",
            "Indian Institute of Technology Jodhpur \n",
            "Indian Institute of Technology Tirupati \n",
            "Indian Institute of Technology Palakkad \n",
            "Indian Institute of Technology Goa \n",
            "Indian Institute of Technology Bhilai \n",
            "Indian Institute of Technology Dharwad \n",
            "Indian Institute of Technology Jammu \n"
          ]
        },
        {
          "output_type": "execute_result",
          "data": {
            "text/plain": [
              "17"
            ]
          },
          "metadata": {},
          "execution_count": 73
        }
      ]
    },
    {
      "cell_type": "code",
      "source": [
        "# Add university to IITs\n",
        "engg_colleges['University'].mask( ((engg_colleges['University'].isna() == True) & (\n",
        "    (engg_colleges['College Name'].str.contains('Indian Institute of Technology'))\n",
        "    )), 'IIT' , inplace=True )"
      ],
      "metadata": {
        "id": "GOvbpvn0DeM7"
      },
      "id": "GOvbpvn0DeM7",
      "execution_count": null,
      "outputs": []
    },
    {
      "cell_type": "code",
      "source": [
        "# Some universities are colleges too, find these university with same college name\n",
        "uni = []\n",
        "present_in_uni = []\n",
        "all_uni = list(engg_colleges[engg_colleges['University'].isna() == False]['University'].unique())\n",
        "college_uni_map = {}\n",
        "for c in engg_colleges[engg_colleges['University'].isna() == True]['College Name'].to_list():\n",
        "    if 'university' in c.lower():\n",
        "        uni.append(c)\n",
        "        for uni_a in all_uni:\n",
        "            if c.lower() in uni_a.lower():\n",
        "                present_in_uni.append(c)\n",
        "                college_uni_map[c] = uni_a\n",
        "\n",
        "print(len(uni))\n",
        "print(len(present_in_uni))"
      ],
      "metadata": {
        "colab": {
          "base_uri": "https://localhost:8080/"
        },
        "id": "0B_UzUTyF1ov",
        "outputId": "a35b87e2-c18d-4e8c-d56f-738bbe7c2795"
      },
      "id": "0B_UzUTyF1ov",
      "execution_count": null,
      "outputs": [
        {
          "output_type": "stream",
          "name": "stdout",
          "text": [
            "290\n",
            "111\n"
          ]
        }
      ]
    },
    {
      "cell_type": "code",
      "source": [
        "# add same universty which have same college name as university\n",
        "for col, value in college_uni_map.items():\n",
        "    engg_colleges['University'].mask( ((engg_colleges['University'].isna() == True) & (\n",
        "    (engg_colleges['College Name'] == col)\n",
        "    )), value, inplace=True )"
      ],
      "metadata": {
        "id": "8tDKsSMBGqeA"
      },
      "id": "8tDKsSMBGqeA",
      "execution_count": null,
      "outputs": []
    },
    {
      "cell_type": "code",
      "source": [
        "engg_colleges[(engg_colleges['College Name'] == 'Savitribai Phule Pune University')]"
      ],
      "metadata": {
        "id": "EO4o8ZCnDsEw",
        "colab": {
          "base_uri": "https://localhost:8080/",
          "height": 284
        },
        "outputId": "d70348cd-cac3-4c2d-c199-66bea28a2a11"
      },
      "id": "EO4o8ZCnDsEw",
      "execution_count": null,
      "outputs": [
        {
          "output_type": "execute_result",
          "data": {
            "text/plain": [
              "                        College Name Genders Accepted  Campus Size  \\\n",
              "47  Savitribai Phule Pune University            Co-Ed        411.0   \n",
              "\n",
              "    Total Student Enrollments  Total Faculty  Established Year  Rating  \\\n",
              "47                     8185.0          686.0            1949.0     3.6   \n",
              "\n",
              "                                University  \\\n",
              "47  Savitribai Phule Pune University, Pune   \n",
              "\n",
              "                                              Courses  \\\n",
              "47  BA, B.Com, B.Com, BA, BA, B.Com, B.Com, B.Com,...   \n",
              "\n",
              "                                           Facilities  City        State  \\\n",
              "47  Boys Hostel, Girls Hostel, Gym, Library, Sport...  Pune  Maharashtra   \n",
              "\n",
              "   Country       College Type   Average Fees  \n",
              "47   India  Public/Government  268075.681818  "
            ],
            "text/html": [
              "\n",
              "  <div id=\"df-d519c76c-ca7c-4038-9bf2-d9e84f9471d3\">\n",
              "    <div class=\"colab-df-container\">\n",
              "      <div>\n",
              "<style scoped>\n",
              "    .dataframe tbody tr th:only-of-type {\n",
              "        vertical-align: middle;\n",
              "    }\n",
              "\n",
              "    .dataframe tbody tr th {\n",
              "        vertical-align: top;\n",
              "    }\n",
              "\n",
              "    .dataframe thead th {\n",
              "        text-align: right;\n",
              "    }\n",
              "</style>\n",
              "<table border=\"1\" class=\"dataframe\">\n",
              "  <thead>\n",
              "    <tr style=\"text-align: right;\">\n",
              "      <th></th>\n",
              "      <th>College Name</th>\n",
              "      <th>Genders Accepted</th>\n",
              "      <th>Campus Size</th>\n",
              "      <th>Total Student Enrollments</th>\n",
              "      <th>Total Faculty</th>\n",
              "      <th>Established Year</th>\n",
              "      <th>Rating</th>\n",
              "      <th>University</th>\n",
              "      <th>Courses</th>\n",
              "      <th>Facilities</th>\n",
              "      <th>City</th>\n",
              "      <th>State</th>\n",
              "      <th>Country</th>\n",
              "      <th>College Type</th>\n",
              "      <th>Average Fees</th>\n",
              "    </tr>\n",
              "  </thead>\n",
              "  <tbody>\n",
              "    <tr>\n",
              "      <th>47</th>\n",
              "      <td>Savitribai Phule Pune University</td>\n",
              "      <td>Co-Ed</td>\n",
              "      <td>411.0</td>\n",
              "      <td>8185.0</td>\n",
              "      <td>686.0</td>\n",
              "      <td>1949.0</td>\n",
              "      <td>3.6</td>\n",
              "      <td>Savitribai Phule Pune University, Pune</td>\n",
              "      <td>BA, B.Com, B.Com, BA, BA, B.Com, B.Com, B.Com,...</td>\n",
              "      <td>Boys Hostel, Girls Hostel, Gym, Library, Sport...</td>\n",
              "      <td>Pune</td>\n",
              "      <td>Maharashtra</td>\n",
              "      <td>India</td>\n",
              "      <td>Public/Government</td>\n",
              "      <td>268075.681818</td>\n",
              "    </tr>\n",
              "  </tbody>\n",
              "</table>\n",
              "</div>\n",
              "      <button class=\"colab-df-convert\" onclick=\"convertToInteractive('df-d519c76c-ca7c-4038-9bf2-d9e84f9471d3')\"\n",
              "              title=\"Convert this dataframe to an interactive table.\"\n",
              "              style=\"display:none;\">\n",
              "        \n",
              "  <svg xmlns=\"http://www.w3.org/2000/svg\" height=\"24px\"viewBox=\"0 0 24 24\"\n",
              "       width=\"24px\">\n",
              "    <path d=\"M0 0h24v24H0V0z\" fill=\"none\"/>\n",
              "    <path d=\"M18.56 5.44l.94 2.06.94-2.06 2.06-.94-2.06-.94-.94-2.06-.94 2.06-2.06.94zm-11 1L8.5 8.5l.94-2.06 2.06-.94-2.06-.94L8.5 2.5l-.94 2.06-2.06.94zm10 10l.94 2.06.94-2.06 2.06-.94-2.06-.94-.94-2.06-.94 2.06-2.06.94z\"/><path d=\"M17.41 7.96l-1.37-1.37c-.4-.4-.92-.59-1.43-.59-.52 0-1.04.2-1.43.59L10.3 9.45l-7.72 7.72c-.78.78-.78 2.05 0 2.83L4 21.41c.39.39.9.59 1.41.59.51 0 1.02-.2 1.41-.59l7.78-7.78 2.81-2.81c.8-.78.8-2.07 0-2.86zM5.41 20L4 18.59l7.72-7.72 1.47 1.35L5.41 20z\"/>\n",
              "  </svg>\n",
              "      </button>\n",
              "      \n",
              "  <style>\n",
              "    .colab-df-container {\n",
              "      display:flex;\n",
              "      flex-wrap:wrap;\n",
              "      gap: 12px;\n",
              "    }\n",
              "\n",
              "    .colab-df-convert {\n",
              "      background-color: #E8F0FE;\n",
              "      border: none;\n",
              "      border-radius: 50%;\n",
              "      cursor: pointer;\n",
              "      display: none;\n",
              "      fill: #1967D2;\n",
              "      height: 32px;\n",
              "      padding: 0 0 0 0;\n",
              "      width: 32px;\n",
              "    }\n",
              "\n",
              "    .colab-df-convert:hover {\n",
              "      background-color: #E2EBFA;\n",
              "      box-shadow: 0px 1px 2px rgba(60, 64, 67, 0.3), 0px 1px 3px 1px rgba(60, 64, 67, 0.15);\n",
              "      fill: #174EA6;\n",
              "    }\n",
              "\n",
              "    [theme=dark] .colab-df-convert {\n",
              "      background-color: #3B4455;\n",
              "      fill: #D2E3FC;\n",
              "    }\n",
              "\n",
              "    [theme=dark] .colab-df-convert:hover {\n",
              "      background-color: #434B5C;\n",
              "      box-shadow: 0px 1px 3px 1px rgba(0, 0, 0, 0.15);\n",
              "      filter: drop-shadow(0px 1px 2px rgba(0, 0, 0, 0.3));\n",
              "      fill: #FFFFFF;\n",
              "    }\n",
              "  </style>\n",
              "\n",
              "      <script>\n",
              "        const buttonEl =\n",
              "          document.querySelector('#df-d519c76c-ca7c-4038-9bf2-d9e84f9471d3 button.colab-df-convert');\n",
              "        buttonEl.style.display =\n",
              "          google.colab.kernel.accessAllowed ? 'block' : 'none';\n",
              "\n",
              "        async function convertToInteractive(key) {\n",
              "          const element = document.querySelector('#df-d519c76c-ca7c-4038-9bf2-d9e84f9471d3');\n",
              "          const dataTable =\n",
              "            await google.colab.kernel.invokeFunction('convertToInteractive',\n",
              "                                                     [key], {});\n",
              "          if (!dataTable) return;\n",
              "\n",
              "          const docLinkHtml = 'Like what you see? Visit the ' +\n",
              "            '<a target=\"_blank\" href=https://colab.research.google.com/notebooks/data_table.ipynb>data table notebook</a>'\n",
              "            + ' to learn more about interactive tables.';\n",
              "          element.innerHTML = '';\n",
              "          dataTable['output_type'] = 'display_data';\n",
              "          await google.colab.output.renderOutput(dataTable, element);\n",
              "          const docLink = document.createElement('div');\n",
              "          docLink.innerHTML = docLinkHtml;\n",
              "          element.appendChild(docLink);\n",
              "        }\n",
              "      </script>\n",
              "    </div>\n",
              "  </div>\n",
              "  "
            ]
          },
          "metadata": {},
          "execution_count": 77
        }
      ]
    },
    {
      "cell_type": "code",
      "source": [
        "# other collges which does not have university are  Autonomous - Assumption - tested for some data\n",
        "engg_colleges['University'].fillna('Autonomous', inplace=True)"
      ],
      "metadata": {
        "id": "SQ4tWgW-JSip"
      },
      "id": "SQ4tWgW-JSip",
      "execution_count": null,
      "outputs": []
    },
    {
      "cell_type": "code",
      "source": [
        "# update ratigs with mean of university\n",
        "engg_colleges['Rating'] = engg_colleges.groupby('University')['Rating'].apply(lambda x: x.fillna(x.mean()))"
      ],
      "metadata": {
        "id": "ZpB9FzP2O7Yq",
        "colab": {
          "base_uri": "https://localhost:8080/"
        },
        "outputId": "388bf8d6-f330-48c8-ef80-98dda98e7978"
      },
      "id": "ZpB9FzP2O7Yq",
      "execution_count": null,
      "outputs": [
        {
          "output_type": "stream",
          "name": "stderr",
          "text": [
            "<ipython-input-79-ece7a517bee8>:2: FutureWarning: Not prepending group keys to the result index of transform-like apply. In the future, the group keys will be included in the index, regardless of whether the applied function returns a like-indexed object.\n",
            "To preserve the previous behavior, use\n",
            "\n",
            "\t>>> .groupby(..., group_keys=False)\n",
            "\n",
            "To adopt the future behavior and silence this warning, use \n",
            "\n",
            "\t>>> .groupby(..., group_keys=True)\n",
            "  engg_colleges['Rating'] = engg_colleges.groupby('University')['Rating'].apply(lambda x: x.fillna(x.mean()))\n"
          ]
        }
      ]
    },
    {
      "cell_type": "code",
      "source": [
        "engg_colleges['Rating'].fillna(engg_colleges['Rating'].median(), inplace = True)"
      ],
      "metadata": {
        "id": "9qO6hNnEQv4P"
      },
      "id": "9qO6hNnEQv4P",
      "execution_count": null,
      "outputs": []
    },
    {
      "cell_type": "code",
      "source": [
        "engg_colleges['Rating'].isna().sum()"
      ],
      "metadata": {
        "colab": {
          "base_uri": "https://localhost:8080/"
        },
        "id": "alFsgaEMRQut",
        "outputId": "001b776e-1940-403e-bef1-20c88f34517f"
      },
      "id": "alFsgaEMRQut",
      "execution_count": null,
      "outputs": [
        {
          "output_type": "execute_result",
          "data": {
            "text/plain": [
              "0"
            ]
          },
          "metadata": {},
          "execution_count": 81
        }
      ]
    },
    {
      "cell_type": "code",
      "source": [
        "# update Total Faculty with mean of university\n",
        "engg_colleges['Total Faculty'] = engg_colleges.groupby('University')['Total Faculty'].apply(lambda x: x.fillna(x.mean()))\n",
        "engg_colleges['Total Faculty'].fillna(engg_colleges['Total Faculty'].median(), inplace = True)"
      ],
      "metadata": {
        "id": "UmnxGqpbR12z",
        "colab": {
          "base_uri": "https://localhost:8080/"
        },
        "outputId": "5cf99849-1be9-4589-c4e7-80f7c821e97b"
      },
      "id": "UmnxGqpbR12z",
      "execution_count": null,
      "outputs": [
        {
          "output_type": "stream",
          "name": "stderr",
          "text": [
            "<ipython-input-82-b94b5e889cf3>:2: FutureWarning: Not prepending group keys to the result index of transform-like apply. In the future, the group keys will be included in the index, regardless of whether the applied function returns a like-indexed object.\n",
            "To preserve the previous behavior, use\n",
            "\n",
            "\t>>> .groupby(..., group_keys=False)\n",
            "\n",
            "To adopt the future behavior and silence this warning, use \n",
            "\n",
            "\t>>> .groupby(..., group_keys=True)\n",
            "  engg_colleges['Total Faculty'] = engg_colleges.groupby('University')['Total Faculty'].apply(lambda x: x.fillna(x.mean()))\n"
          ]
        }
      ]
    },
    {
      "cell_type": "code",
      "source": [
        "# update Total Total Student Enrollments with mean of university\n",
        "engg_colleges['Total Student Enrollments'] = engg_colleges.groupby('University')['Total Student Enrollments'].apply(lambda x: x.fillna(x.mean()))\n",
        "engg_colleges['Total Student Enrollments'].fillna(engg_colleges['Total Student Enrollments'].median(), inplace = True)"
      ],
      "metadata": {
        "id": "d45SBMTSSYxm",
        "colab": {
          "base_uri": "https://localhost:8080/"
        },
        "outputId": "91756696-bde7-46e3-906c-6d2abeec778d"
      },
      "id": "d45SBMTSSYxm",
      "execution_count": null,
      "outputs": [
        {
          "output_type": "stream",
          "name": "stderr",
          "text": [
            "<ipython-input-83-3e90fb0035aa>:2: FutureWarning: Not prepending group keys to the result index of transform-like apply. In the future, the group keys will be included in the index, regardless of whether the applied function returns a like-indexed object.\n",
            "To preserve the previous behavior, use\n",
            "\n",
            "\t>>> .groupby(..., group_keys=False)\n",
            "\n",
            "To adopt the future behavior and silence this warning, use \n",
            "\n",
            "\t>>> .groupby(..., group_keys=True)\n",
            "  engg_colleges['Total Student Enrollments'] = engg_colleges.groupby('University')['Total Student Enrollments'].apply(lambda x: x.fillna(x.mean()))\n"
          ]
        }
      ]
    },
    {
      "cell_type": "code",
      "source": [
        "# create heatmap of correlation matrix\n",
        "sns.heatmap(engg_colleges.corr(), annot=True, cmap='coolwarm')"
      ],
      "metadata": {
        "colab": {
          "base_uri": "https://localhost:8080/",
          "height": 674
        },
        "id": "T4bm8BxKSkNx",
        "outputId": "ec56a4fc-43d7-48ac-a57e-6e7ef6d1a488"
      },
      "id": "T4bm8BxKSkNx",
      "execution_count": null,
      "outputs": [
        {
          "output_type": "stream",
          "name": "stderr",
          "text": [
            "<ipython-input-84-f9ddb41893f3>:2: FutureWarning: The default value of numeric_only in DataFrame.corr is deprecated. In a future version, it will default to False. Select only valid columns or specify the value of numeric_only to silence this warning.\n",
            "  sns.heatmap(engg_colleges.corr(), annot=True, cmap='coolwarm')\n"
          ]
        },
        {
          "output_type": "execute_result",
          "data": {
            "text/plain": [
              "<Axes: >"
            ]
          },
          "metadata": {},
          "execution_count": 84
        },
        {
          "output_type": "display_data",
          "data": {
            "text/plain": [
              "<Figure size 640x480 with 2 Axes>"
            ],
            "image/png": "[encoded data removed]"
          },
          "metadata": {}
        }
      ]
    },
    {
      "cell_type": "code",
      "source": [
        "# udpate Facilities NaN values with Not Specified\n",
        "engg_colleges['Facilities'].fillna(\"Not Specified\", inplace = True)"
      ],
      "metadata": {
        "id": "Mugp9MyYS-LJ"
      },
      "id": "Mugp9MyYS-LJ",
      "execution_count": null,
      "outputs": []
    },
    {
      "cell_type": "code",
      "source": [
        "engg_colleges['Established Year'].fillna(engg_colleges['Established Year'].median(), inplace = True)"
      ],
      "metadata": {
        "id": "FQ9sqj4TUCFm"
      },
      "id": "FQ9sqj4TUCFm",
      "execution_count": null,
      "outputs": []
    },
    {
      "cell_type": "code",
      "source": [
        "engg_colleges['College Type'] = engg_colleges['College Type'].fillna('Private')"
      ],
      "metadata": {
        "id": "odtipUVzh_Am"
      },
      "id": "odtipUVzh_Am",
      "execution_count": null,
      "outputs": []
    },
    {
      "cell_type": "code",
      "source": [
        "engg_colleges.isna().sum()"
      ],
      "metadata": {
        "colab": {
          "base_uri": "https://localhost:8080/"
        },
        "id": "uiPRX4vgUWdZ",
        "outputId": "fb3e56ae-e422-4458-df2f-763a17057090"
      },
      "id": "uiPRX4vgUWdZ",
      "execution_count": null,
      "outputs": [
        {
          "output_type": "execute_result",
          "data": {
            "text/plain": [
              "College Name                    0\n",
              "Genders Accepted                0\n",
              "Campus Size                  2458\n",
              "Total Student Enrollments       0\n",
              "Total Faculty                   0\n",
              "Established Year                0\n",
              "Rating                          0\n",
              "University                      0\n",
              "Courses                         0\n",
              "Facilities                      0\n",
              "City                            0\n",
              "State                           0\n",
              "Country                         0\n",
              "College Type                    0\n",
              "Average Fees                    0\n",
              "dtype: int64"
            ]
          },
          "metadata": {},
          "execution_count": 88
        }
      ]
    },
    {
      "cell_type": "code",
      "source": [
        "degrees = ['b.tech', 'm.sc', 'm.tech', 'ma', 'ph.d', 'mba', 'b.arch', 'b.a', 'b.com',\n",
        " 'b.des', 'b.e', 'b.e/b.tech', 'b.ed', 'b.f.sc', 'b.f.tech', 'b.lib.i.sc',\n",
        " 'b.lib.sc', 'b.lit', 'b.optom', 'b.optometry', 'b.p.ed', 'b.pharm', 'b.pharma',\n",
        " 'b.plan', 'b.sc', 'b.sc-', 'b.sc-biotechnology', 'b.sc-botany', 'b.sc-chemistry',\n",
        " 'b.sc-computer', 'b.sc-economics', 'b.sc-geology', 'b.sc-industrial', 'b.sc-life',\n",
        " 'b.sc-mathematics', 'b.sc-maths', 'b.sc-mobile', 'b.sc-physical', 'b.sc-physics',\n",
        " 'b.sc-zoology', 'b.t.c', 'b.v.sc', 'b.voc', 'ba','ba-',  'ba-communication',\n",
        " 'ba-drawing', 'ba-economics', 'ba-education', 'ba-english', 'ba-geography', 'ba-hindi',\n",
        " 'ba-history', 'ba-manipuri', 'ba-mathematics', 'ba-optional', 'ba-performing',\n",
        " 'ba-political', 'ba-public', 'ba-social', 'ba-theatre', 'bachelor', 'bam', 'bba', 'bbm',\n",
        " 'bca', 'bcs', 'be', 'bfa', 'bfd', 'bhm', 'bhmct', 'bid', 'bio', 'bjmc', 'bls', 'bm', 'bmc',\n",
        " 'bmm', 'bms', 'bmt', 'bnys', 'bpa', 'bpt', 'bs', 'bsl', 'bsw', 'bva', 'd.ed', 'd.el.ed', 'd.litt',\n",
        " 'd.pharma', 'd.voc', 'diploma', 'dm', 'dmlt', 'dnb', 'dpt', 'dva', 'llb', 'llm', 'm.', 'm.arch',\n",
        " 'm.ch', 'm.com', 'm.com-economic', 'm.comself', 'm.des', 'm.e', 'm.ed', 'm.f.sc', 'm.f.tech', 'm.lib.i.sc',\n",
        " 'm.mus', 'm.optom', 'm.p.ed', 'm.pharma', 'm.phil', 'm.plan', 'm.sc.', 'm.sc.ed',\n",
        " 'm.v.sc', 'm.voc', 'master', 'masters', 'mbm', 'mca', 'md', 'mds', 'me', 'mfa', 'mfc',\n",
        " 'mjmc', 'mmc', 'mms', 'mot', 'mpa', 'mph', 'mpt', 'ms', 'msw', 'mva', 'pg', 'pgd', 'pgdba',\n",
        " 'pgdca', 'pgdm', 'pgp', 'pgpm', 'pharm.d', 'pharma.d', 'fellowship', 'p.hd', 'post.doctoral.fellowship']\n",
        "course_repalce_dict = {\n",
        "    'b. sc': 'b.sc',\n",
        "    'executive mba': 'executive.mba',\n",
        "    'post graduate diploma': 'pgd',\n",
        "    'post b.sc': 'm.sc',\n",
        "    'post diploma': 'pd',\n",
        "    'b. pharma': 'b.pharma',\n",
        "    'b.pharm': 'b.pharma',\n",
        "    'b.pharmaa': 'b.pharma',\n",
        "    'advanced diploma': 'diploma',\n",
        "    'advanced pgd': 'pgd',\n",
        "    'b a': 'b.a',\n",
        "    'b. com': 'b.com',\n",
        "    'b. tech': 'b.tech',\n",
        "    'b.tech.': 'b.tech',\n",
        "    'm.tech.': 'm.tech',\n",
        "    'm.teh': 'm.tech',\n",
        "    'b. ed': 'b.ed',\n",
        "    'mba.': 'mba',\n",
        "    'msc.': 'm.sc',\n",
        "    'ph.d.': 'ph.d',\n",
        "    'b pharma': 'b.pharma',\n",
        "    'b. arch': 'b.arch',\n",
        "    'post doctoral fellowship': 'post.doctoral.fellowship',\n",
        "    'b.sc.': 'b.sc',\n",
        "    'm.a.': 'm.a',\n",
        "    'ba- history': 'ba-history'\n",
        "}\n",
        "change_first_words = {\n",
        "    'b.sc-': 'b.sc',\n",
        "    'm.sc.': 'm.sc'\n",
        "}\n",
        "degrees = list(set(degrees + list(course_repalce_dict.values())))"
      ],
      "metadata": {
        "id": "zpYjXI70CwBn"
      },
      "id": "zpYjXI70CwBn",
      "execution_count": null,
      "outputs": []
    },
    {
      "cell_type": "code",
      "source": [
        "courses = engg_colleges['Courses'].to_list()\n",
        "unique_courses = set()\n",
        "test = {}\n",
        "\n",
        "for row in courses:\n",
        "    for course in row.split(','):\n",
        "        course = course.lower()\n",
        "        for to_replace in course_repalce_dict:\n",
        "            course = course.replace(to_replace.lower(), course_repalce_dict [to_replace].lower())\n",
        "        course = course.lower().strip().split()\n",
        "        if course[0] in degrees:\n",
        "            continue\n",
        "        # print(course)\n",
        "        # tokenised_c = word_tokenize(course)\n",
        "        if len(course) > 1:\n",
        "            course_first = course[0]\n",
        "            if course_first in ['advance', 'advanced', 'in']:\n",
        "                course_first = course[1]\n",
        "            # print(course_first)\n",
        "            unique_courses.add(course_first)\n",
        "            test[' '.join(course)] = course_first\n",
        "print(len(unique_courses))"
      ],
      "metadata": {
        "id": "XIK1tm0hVJ63",
        "colab": {
          "base_uri": "https://localhost:8080/"
        },
        "outputId": "77149819-88a8-407c-cf53-ba30ba1b7af7"
      },
      "id": "XIK1tm0hVJ63",
      "execution_count": null,
      "outputs": [
        {
          "output_type": "stream",
          "name": "stdout",
          "text": [
            "113\n"
          ]
        }
      ]
    },
    {
      "cell_type": "code",
      "source": [
        "print(sorted(list(unique_courses)))"
      ],
      "metadata": {
        "id": "IWtjgfZGY7Fl",
        "colab": {
          "base_uri": "https://localhost:8080/"
        },
        "outputId": "dba91247-72ab-4731-a392-4b6e1a7902dd"
      },
      "id": "IWtjgfZGY7Fl",
      "execution_count": null,
      "outputs": [
        {
          "output_type": "stream",
          "name": "stdout",
          "text": [
            "['aeronautical', 'and', 'anthropology', 'automation', 'automobile', 'baccalaureate', 'biochemistry', 'biology', 'biotechnology', 'botany', 'catering', 'chemical', 'chemistry', 'civil', 'computer', 'continuing', 'control', 'cs', 'culture', 'defence', 'diagnosis', 'diploma', 'drawing', 'economics', 'electical', 'electrical', 'electronic', 'electronics', 'embedded', 'emergency', 'english', 'entertainment', 'ethics', 'events', 'executive', 'fellowship', 'finance', 'financial', 'fitness', 'food', 'forensic', 'general', 'genetics', 'geography', 'geology', 'german', 'graduate', 'graphics', 'gynaecology', 'health', 'high', 'hindi', 'history', 'hospitality', 'income', 'indian', 'industrial', 'information', 'instrumentation', 'insurance', 'integrated', 'journalism', 'kannada', 'karmakand', 'law', 'literature', 'machine', 'manipuri', 'marine', 'mathametics', 'mathematics', 'maths', 'mechanacial', 'mechanical', 'media', 'microbiology', 'mobility', 'music', 'nutrition', 'ocean', 'optional', 'peace', 'pharmaceutical', 'philosophy', 'physical', 'physics', 'political', 'politics', 'post', 'postgraduate', 'power', 'professional', 'psychology', 'public', 'reliability', 'safety', 'sanskrit', 'sexuality', 'society', 'sociology', 'software', 'special', 'statistics', 'structural', 'taxation', 'tech', 'tourism', 'urdu', 'venereology', 'venerology', 'vfx', 'web', 'zoology']\n"
          ]
        }
      ]
    },
    {
      "cell_type": "markdown",
      "source": [
        "Will drop unique cources as it womn't be considered"
      ],
      "metadata": {
        "id": "qg4Hj-Z0Mq-I"
      },
      "id": "qg4Hj-Z0Mq-I"
    },
    {
      "cell_type": "code",
      "source": [
        "def get_courses(row):\n",
        "    unique_courses = set()\n",
        "    for course in row.split(','):\n",
        "        course = course.lower()\n",
        "        for to_replace in course_repalce_dict:\n",
        "            course = course.replace(to_replace.lower(), course_repalce_dict [to_replace].lower())\n",
        "        course = course.lower().strip().split()\n",
        "        if course[0] in degrees:\n",
        "            unique_courses.add(course[0])\n",
        "    \n",
        "    return list(unique_courses)\n",
        "engg_colleges['Courses_list'] = engg_colleges['Courses'].apply(get_courses)"
      ],
      "metadata": {
        "id": "pp0iHMe70cmI"
      },
      "id": "pp0iHMe70cmI",
      "execution_count": null,
      "outputs": []
    },
    {
      "cell_type": "code",
      "source": [
        "engg_colleges.columns"
      ],
      "metadata": {
        "colab": {
          "base_uri": "https://localhost:8080/"
        },
        "id": "sTqbnR350a1n",
        "outputId": "c6f26fef-c841-4420-f43a-e33d42198eb2"
      },
      "id": "sTqbnR350a1n",
      "execution_count": null,
      "outputs": [
        {
          "output_type": "execute_result",
          "data": {
            "text/plain": [
              "Index(['College Name', 'Genders Accepted', 'Campus Size',\n",
              "       'Total Student Enrollments', 'Total Faculty', 'Established Year',\n",
              "       'Rating', 'University', 'Courses', 'Facilities', 'City', 'State',\n",
              "       'Country', 'College Type', 'Average Fees', 'Courses_list'],\n",
              "      dtype='object')"
            ]
          },
          "metadata": {},
          "execution_count": 93
        }
      ]
    },
    {
      "cell_type": "code",
      "source": [
        "engg_colleges['Courses_list'].head()"
      ],
      "metadata": {
        "colab": {
          "base_uri": "https://localhost:8080/"
        },
        "id": "-zbokJqjNibc",
        "outputId": "357379c5-a9c2-4ec5-9f9d-b8db2527bd2f"
      },
      "id": "-zbokJqjNibc",
      "execution_count": null,
      "outputs": [
        {
          "output_type": "execute_result",
          "data": {
            "text/plain": [
              "0        [ph.d, b.tech, m.tech, b.arch, mba, ma, m.sc]\n",
              "1                 [b.tech, m.tech, b.arch, ph.d, m.sc]\n",
              "2             [b.tech, m.tech, bba, mba, master, ph.d]\n",
              "3    [bhmct, diploma, b.pharma, mca, bca, b.tech, m...\n",
              "4                   [ms, m.phil, b.tech, m.tech, ph.d]\n",
              "Name: Courses_list, dtype: object"
            ]
          },
          "metadata": {},
          "execution_count": 94
        }
      ]
    },
    {
      "cell_type": "code",
      "source": [
        "facilities = engg_colleges['Facilities'].to_list()\n",
        "unique_facilities = set()\n",
        "\n",
        "for row in facilities:\n",
        "    row = row.lower()\n",
        "    for facility in row.split(','):\n",
        "        unique_facilities.add(facility.strip())\n",
        "print(len(unique_facilities))"
      ],
      "metadata": {
        "colab": {
          "base_uri": "https://localhost:8080/"
        },
        "id": "Z0S2g2EjQGO5",
        "outputId": "ef87f705-8315-463d-a1a1-ddb4ff3c46f7"
      },
      "id": "Z0S2g2EjQGO5",
      "execution_count": null,
      "outputs": [
        {
          "output_type": "stream",
          "name": "stdout",
          "text": [
            "21\n"
          ]
        }
      ]
    },
    {
      "cell_type": "code",
      "source": [
        "def facility_list(row):\n",
        "    unique_facilities = set()\n",
        "    row = row.lower()\n",
        "    for facility in row.split(','):\n",
        "        unique_facilities.add(facility.strip())\n",
        "    return list(unique_facilities)\n",
        "engg_colleges['Facilities_list'] = engg_colleges['Facilities'].apply(facility_list)"
      ],
      "metadata": {
        "id": "l1uG_RRZQpog"
      },
      "id": "l1uG_RRZQpog",
      "execution_count": null,
      "outputs": []
    },
    {
      "cell_type": "code",
      "source": [
        "engg_colleges['Facilities_list'].head()"
      ],
      "metadata": {
        "colab": {
          "base_uri": "https://localhost:8080/"
        },
        "id": "yFC2oIXmSC60",
        "outputId": "8301a0d1-dbe9-428e-da59-4c659b3f6e51"
      },
      "id": "yFC2oIXmSC60",
      "execution_count": null,
      "outputs": [
        {
          "output_type": "execute_result",
          "data": {
            "text/plain": [
              "0    [banks facilities, library, gym, it infrastruc...\n",
              "1    [library, gym, auditorium, it infrastructure, ...\n",
              "2    [library, gym, it infrastructure, alumni assoc...\n",
              "3    [transport, banks facilities, library, gym, au...\n",
              "4    [banks facilities, library, gym, it infrastruc...\n",
              "Name: Facilities_list, dtype: object"
            ]
          },
          "metadata": {},
          "execution_count": 97
        }
      ]
    },
    {
      "cell_type": "code",
      "source": [
        "engg_colleges.to_csv('proccessed_indian_universities.csv')"
      ],
      "metadata": {
        "id": "tdpmFX9CS_ow"
      },
      "id": "tdpmFX9CS_ow",
      "execution_count": null,
      "outputs": []
    },
    {
      "cell_type": "code",
      "source": [
        "# Check filter/dropdown values\n",
        "filter_columns = ['Genders Accepted', 'University', 'City', 'State', 'Country', 'College Type', 'Courses_list', 'Facilities_list']\n",
        "filter_dict = {}\n",
        "for col in filter_columns:\n",
        "    filter_dict[col] = list(engg_colleges[col].explode().unique())\n",
        "\n",
        "# write to JSON\n",
        "import json\n",
        "with open('filter_columns_data.json', 'w') as json_file:\n",
        "    json.dump(filter_dict, json_file)"
      ],
      "metadata": {
        "id": "95tSnMo59zT4"
      },
      "id": "95tSnMo59zT4",
      "execution_count": null,
      "outputs": []
    },
    {
      "cell_type": "code",
      "source": [
        "prefix_dict = {\n",
        "    'Courses_list': 'course_',\n",
        "    'University': 'uni_',\n",
        "    'City': 'city_',\n",
        "    'State': 'state_',\n",
        "    'College Type': 'ctype_',\n",
        "    'Genders Accepted': 'gender_',\n",
        "    'Facilities_list': 'facility_'\n",
        "}\n",
        "all_columns = ['Genders Accepted', 'Total Student Enrollments', 'Total Faculty',\n",
        "       'Rating', 'University', 'City', 'State', 'Country', 'College Type',\n",
        "       'Average Fees', 'Courses_list', 'Facilities_list']\n",
        "\n",
        "test_json_params = {}\n",
        "for col in all_columns:\n",
        "    prefix = prefix_dict.get(col, '')\n",
        "    if col in filter_dict:\n",
        "        for value in filter_dict[col]:\n",
        "            test_json_params[f'{prefix}{value}'] = 0\n",
        "    else:\n",
        "        test_json_params[f'{prefix}{col}'] = 0\n",
        "\n",
        "# write to JSON\n",
        "import json\n",
        "with open('final_param_out.json', 'w') as json_file:\n",
        "    json.dump(test_json_params, json_file)"
      ],
      "metadata": {
        "id": "FF_Pq1g2-Hxp"
      },
      "id": "FF_Pq1g2-Hxp",
      "execution_count": null,
      "outputs": []
    },
    {
      "cell_type": "code",
      "source": [],
      "metadata": {
        "id": "pDaqcn2f0Yrg"
      },
      "id": "pDaqcn2f0Yrg",
      "execution_count": null,
      "outputs": []
    },
    {
      "cell_type": "code",
      "source": [
        "# create cascade dropdown values\n",
        "uni_gb_states = engg_colleges.groupby('State')['University'].unique().apply(list).to_dict()\n",
        "city_gb_states = engg_colleges.groupby('State')['City'].unique().apply(list).to_dict()\n",
        "\n",
        "cascade_dropdown_values = {\n",
        "    'University': uni_gb_states,\n",
        "    'City': city_gb_states\n",
        "}\n",
        "\n",
        "import json\n",
        "with open('cascade_dropdown_values.json', 'w') as json_file:\n",
        "    json.dump(cascade_dropdown_values, json_file)"
      ],
      "metadata": {
        "id": "8EQULRFGIJ-l"
      },
      "id": "8EQULRFGIJ-l",
      "execution_count": null,
      "outputs": []
    },
    {
      "cell_type": "code",
      "source": [
        "# Apply one-hot encoding on the list in the row\n",
        "college_before = list(engg_colleges.columns)\n",
        "engg_colleges = pd.concat([engg_colleges, pd.get_dummies(engg_colleges['Facilities_list'].apply(pd.Series).stack()).sum(level=0)], axis=1)\n",
        "engg_colleges.columns = [f'facility_{i}' if i not in college_before else f'{i}' for i in engg_colleges.columns]"
      ],
      "metadata": {
        "colab": {
          "base_uri": "https://localhost:8080/"
        },
        "id": "xZbFysm6SCqM",
        "outputId": "ac08ba89-384c-4130-f8f5-6dd5dc88d10c"
      },
      "id": "xZbFysm6SCqM",
      "execution_count": null,
      "outputs": [
        {
          "output_type": "stream",
          "name": "stderr",
          "text": [
            "<ipython-input-102-041be45e9c7f>:3: FutureWarning: Using the level keyword in DataFrame and Series aggregations is deprecated and will be removed in a future version. Use groupby instead. df.sum(level=1) should use df.groupby(level=1).sum().\n",
            "  engg_colleges = pd.concat([engg_colleges, pd.get_dummies(engg_colleges['Facilities_list'].apply(pd.Series).stack()).sum(level=0)], axis=1)\n"
          ]
        }
      ]
    },
    {
      "cell_type": "code",
      "source": [
        "engg_colleges.columns"
      ],
      "metadata": {
        "colab": {
          "base_uri": "https://localhost:8080/"
        },
        "id": "qiAJrKMfbLR2",
        "outputId": "d3cfc330-0e86-4ec4-db71-3c7633a1cffe"
      },
      "id": "qiAJrKMfbLR2",
      "execution_count": null,
      "outputs": [
        {
          "output_type": "execute_result",
          "data": {
            "text/plain": [
              "Index(['College Name', 'Genders Accepted', 'Campus Size',\n",
              "       'Total Student Enrollments', 'Total Faculty', 'Established Year',\n",
              "       'Rating', 'University', 'Courses', 'Facilities', 'City', 'State',\n",
              "       'Country', 'College Type', 'Average Fees', 'Courses_list',\n",
              "       'Facilities_list', 'facility_alumni associations',\n",
              "       'facility_auditorium', 'facility_banks facilities',\n",
              "       'facility_boys hostel', 'facility_cafeteria', 'facility_classrooms',\n",
              "       'facility_convenience store', 'facility_girls hostel',\n",
              "       'facility_guest room', 'facility_gym', 'facility_it infrastructure',\n",
              "       'facility_laboratories', 'facility_library',\n",
              "       'facility_medical/hospital', 'facility_moot court',\n",
              "       'facility_not specified', 'facility_parking facility',\n",
              "       'facility_sports', 'facility_swimming pool', 'facility_transport',\n",
              "       'facility_wifi'],\n",
              "      dtype='object')"
            ]
          },
          "metadata": {},
          "execution_count": 103
        }
      ]
    },
    {
      "cell_type": "code",
      "source": [
        "college_before = list(engg_colleges.columns)\n",
        "engg_colleges = pd.concat([engg_colleges, pd.get_dummies(engg_colleges['Courses_list'].apply(pd.Series).stack()).sum(level=0)], axis=1)\n",
        "engg_colleges.columns = [f'course_{i}' if i not in college_before else f'{i}' for i in engg_colleges.columns]"
      ],
      "metadata": {
        "colab": {
          "base_uri": "https://localhost:8080/"
        },
        "id": "LVGjvXtibGEL",
        "outputId": "1dd7b2ee-5f14-4dd0-f2e7-959d736b19e5"
      },
      "id": "LVGjvXtibGEL",
      "execution_count": null,
      "outputs": [
        {
          "output_type": "stream",
          "name": "stderr",
          "text": [
            "<ipython-input-104-861599e3efdd>:2: FutureWarning: The default dtype for empty Series will be 'object' instead of 'float64' in a future version. Specify a dtype explicitly to silence this warning.\n",
            "  engg_colleges = pd.concat([engg_colleges, pd.get_dummies(engg_colleges['Courses_list'].apply(pd.Series).stack()).sum(level=0)], axis=1)\n",
            "<ipython-input-104-861599e3efdd>:2: FutureWarning: Using the level keyword in DataFrame and Series aggregations is deprecated and will be removed in a future version. Use groupby instead. df.sum(level=1) should use df.groupby(level=1).sum().\n",
            "  engg_colleges = pd.concat([engg_colleges, pd.get_dummies(engg_colleges['Courses_list'].apply(pd.Series).stack()).sum(level=0)], axis=1)\n"
          ]
        }
      ]
    },
    {
      "cell_type": "code",
      "source": [
        "#engg_colleges_train = engg_colleges.drop(['College Name', 'Campus Size', 'Total Faculty', 'Established Year', 'Courses', 'Facilities', 'Country'], axis = 1)"
      ],
      "metadata": {
        "id": "IhhYR4FKgS-V"
      },
      "id": "IhhYR4FKgS-V",
      "execution_count": null,
      "outputs": []
    },
    {
      "cell_type": "code",
      "source": [
        "college_before = list(engg_colleges.columns)\n",
        "engg_colleges = pd.concat([engg_colleges, pd.get_dummies(engg_colleges['University'].apply(pd.Series).stack()).sum(level=0)], axis=1)\n",
        "engg_colleges.columns = [f'uni_{i}' if i not in college_before else f'{i}' for i in engg_colleges.columns]"
      ],
      "metadata": {
        "colab": {
          "base_uri": "https://localhost:8080/"
        },
        "id": "bvDpFUFPixYA",
        "outputId": "44f53da2-603b-4b75-dfa3-f240dde445e9"
      },
      "id": "bvDpFUFPixYA",
      "execution_count": null,
      "outputs": [
        {
          "output_type": "stream",
          "name": "stderr",
          "text": [
            "<ipython-input-107-671e43e81327>:2: FutureWarning: Using the level keyword in DataFrame and Series aggregations is deprecated and will be removed in a future version. Use groupby instead. df.sum(level=1) should use df.groupby(level=1).sum().\n",
            "  engg_colleges = pd.concat([engg_colleges, pd.get_dummies(engg_colleges['University'].apply(pd.Series).stack()).sum(level=0)], axis=1)\n"
          ]
        }
      ]
    },
    {
      "cell_type": "code",
      "source": [
        "college_before = list(engg_colleges.columns)\n",
        "engg_colleges = pd.concat([engg_colleges, pd.get_dummies(engg_colleges['City'].apply(pd.Series).stack()).sum(level=0)], axis=1)\n",
        "engg_colleges.columns = [f'city_{i}' if i not in college_before else f'{i}' for i in engg_colleges.columns]"
      ],
      "metadata": {
        "colab": {
          "base_uri": "https://localhost:8080/"
        },
        "id": "YUYjDbVwmqQP",
        "outputId": "8c36e1b0-a98c-4754-d543-9243a8477b79"
      },
      "id": "YUYjDbVwmqQP",
      "execution_count": null,
      "outputs": [
        {
          "output_type": "stream",
          "name": "stderr",
          "text": [
            "<ipython-input-109-25b9d21839a0>:2: FutureWarning: Using the level keyword in DataFrame and Series aggregations is deprecated and will be removed in a future version. Use groupby instead. df.sum(level=1) should use df.groupby(level=1).sum().\n",
            "  engg_colleges = pd.concat([engg_colleges, pd.get_dummies(engg_colleges['City'].apply(pd.Series).stack()).sum(level=0)], axis=1)\n"
          ]
        }
      ]
    },
    {
      "cell_type": "code",
      "source": [
        "college_before = list(engg_colleges.columns)\n",
        "engg_colleges = pd.concat([engg_colleges, pd.get_dummies(engg_colleges['State'].apply(pd.Series).stack()).sum(level=0)], axis=1)\n",
        "engg_colleges.columns = [f'state_{i}' if i not in college_before else f'{i}' for i in engg_colleges.columns]"
      ],
      "metadata": {
        "colab": {
          "base_uri": "https://localhost:8080/"
        },
        "id": "r7DihmVImsrH",
        "outputId": "0bfad083-fde5-4a28-d08e-e0b1ceafa732"
      },
      "id": "r7DihmVImsrH",
      "execution_count": null,
      "outputs": [
        {
          "output_type": "stream",
          "name": "stderr",
          "text": [
            "<ipython-input-110-191726a9f02d>:2: FutureWarning: Using the level keyword in DataFrame and Series aggregations is deprecated and will be removed in a future version. Use groupby instead. df.sum(level=1) should use df.groupby(level=1).sum().\n",
            "  engg_colleges = pd.concat([engg_colleges, pd.get_dummies(engg_colleges['State'].apply(pd.Series).stack()).sum(level=0)], axis=1)\n"
          ]
        }
      ]
    },
    {
      "cell_type": "code",
      "source": [
        "college_before = list(engg_colleges.columns)\n",
        "engg_colleges = pd.concat([engg_colleges, pd.get_dummies(engg_colleges['College Type'].apply(pd.Series).stack()).sum(level=0)], axis=1)\n",
        "engg_colleges.columns = [f'ctype_{i}' if i not in college_before else f'{i}' for i in engg_colleges.columns]"
      ],
      "metadata": {
        "colab": {
          "base_uri": "https://localhost:8080/"
        },
        "id": "kN2uk1XDm1y7",
        "outputId": "d81c5e35-d4d5-44f6-814d-3ce7df36d1b9"
      },
      "id": "kN2uk1XDm1y7",
      "execution_count": null,
      "outputs": [
        {
          "output_type": "stream",
          "name": "stderr",
          "text": [
            "<ipython-input-111-1828ff4f243e>:2: FutureWarning: Using the level keyword in DataFrame and Series aggregations is deprecated and will be removed in a future version. Use groupby instead. df.sum(level=1) should use df.groupby(level=1).sum().\n",
            "  engg_colleges = pd.concat([engg_colleges, pd.get_dummies(engg_colleges['College Type'].apply(pd.Series).stack()).sum(level=0)], axis=1)\n"
          ]
        }
      ]
    },
    {
      "cell_type": "code",
      "source": [
        "college_before = list(engg_colleges.columns)\n",
        "engg_colleges = pd.concat([engg_colleges, pd.get_dummies(engg_colleges['Genders Accepted'].apply(pd.Series).stack()).sum(level=0)], axis=1)\n",
        "engg_colleges.columns = [f'gender_{i}' if i not in college_before else f'{i}' for i in engg_colleges.columns]"
      ],
      "metadata": {
        "colab": {
          "base_uri": "https://localhost:8080/"
        },
        "id": "jbDVinSvm6sN",
        "outputId": "2810ac77-e84f-44f6-9425-b24a6b1c74da"
      },
      "id": "jbDVinSvm6sN",
      "execution_count": null,
      "outputs": [
        {
          "output_type": "stream",
          "name": "stderr",
          "text": [
            "<ipython-input-112-62833e7ba769>:2: FutureWarning: Using the level keyword in DataFrame and Series aggregations is deprecated and will be removed in a future version. Use groupby instead. df.sum(level=1) should use df.groupby(level=1).sum().\n",
            "  engg_colleges = pd.concat([engg_colleges, pd.get_dummies(engg_colleges['Genders Accepted'].apply(pd.Series).stack()).sum(level=0)], axis=1)\n"
          ]
        }
      ]
    },
    {
      "cell_type": "code",
      "source": [
        "engg_colleges.head()"
      ],
      "metadata": {
        "id": "Cfo5dhsuoA4M",
        "colab": {
          "base_uri": "https://localhost:8080/",
          "height": 681
        },
        "outputId": "d5e029c6-d847-418f-e5c6-5214d4c7f023"
      },
      "id": "Cfo5dhsuoA4M",
      "execution_count": null,
      "outputs": [
        {
          "output_type": "execute_result",
          "data": {
            "text/plain": [
              "                                        College Name Genders Accepted  \\\n",
              "0         National Institute of Technology Rourkela             Co-Ed   \n",
              "1  Visvesvaraya National Institute of Technology ...            Co-Ed   \n",
              "2             Netaji Subhas University of Technology            Co-Ed   \n",
              "3                      Birla Institute of Technology            Co-Ed   \n",
              "4  International Institute of Information Technology            Co-Ed   \n",
              "\n",
              "   Campus Size  Total Student Enrollments  Total Faculty  Established Year  \\\n",
              "0        647.0                     4811.0          329.0            2007.0   \n",
              "1        215.0                     1071.0          192.0            2007.0   \n",
              "2        145.0                     3759.0          101.0            2018.0   \n",
              "3        980.0                     4506.0          284.0            1955.0   \n",
              "4         66.0                     1721.0           85.0            2001.0   \n",
              "\n",
              "     Rating  University                                            Courses  \\\n",
              "0  3.120000         NIT  B.Tech Mechanical Engineering, B.Tech Computer...   \n",
              "1  2.730000         NIT  B.Tech Computer Science Engineering, B.Tech El...   \n",
              "2  3.056196  Autonomous  B.Tech Computer Engineering, B.Tech Electronic...   \n",
              "3  3.056196        BITS  B.Tech Computer Science Engineering, B.Tech El...   \n",
              "4  3.050000  Autonomous  B.Tech Computer Science and Engineering, M.Tec...   \n",
              "\n",
              "                                          Facilities  ... state_Telangana  \\\n",
              "0  Boys Hostel, Girls Hostel, Gym, Library, Sport...  ...               0   \n",
              "1  Boys Hostel, Girls Hostel, Gym, Library, Sport...  ...               0   \n",
              "2  Boys Hostel, Girls Hostel, Gym, Library, Sport...  ...               0   \n",
              "3  Boys Hostel, Girls Hostel, Gym, Library, Sport...  ...               0   \n",
              "4  Boys Hostel, Girls Hostel, Gym, Library, Sport...  ...               1   \n",
              "\n",
              "  state_Tripura state_Uttar Pradesh state_Uttarakhand  state_West Bengal  \\\n",
              "0             0                   0                 0                  0   \n",
              "1             0                   0                 0                  0   \n",
              "2             0                   0                 0                  0   \n",
              "3             0                   0                 0                  0   \n",
              "4             0                   0                 0                  0   \n",
              "\n",
              "  ctype_Private ctype_Public/Government  gender_Co-Ed  gender_Female  \\\n",
              "0             0                       1             1              0   \n",
              "1             0                       1             1              0   \n",
              "2             0                       1             1              0   \n",
              "3             1                       0             1              0   \n",
              "4             1                       0             1              0   \n",
              "\n",
              "   gender_Male  \n",
              "0            0  \n",
              "1            0  \n",
              "2            0  \n",
              "3            0  \n",
              "4            0  \n",
              "\n",
              "[5 rows x 2557 columns]"
            ],
            "text/html": [
              "\n",
              "  <div id=\"df-b56b0b67-182a-466e-b304-7b639ba36684\">\n",
              "    <div class=\"colab-df-container\">\n",
              "      <div>\n",
              "<style scoped>\n",
              "    .dataframe tbody tr th:only-of-type {\n",
              "        vertical-align: middle;\n",
              "    }\n",
              "\n",
              "    .dataframe tbody tr th {\n",
              "        vertical-align: top;\n",
              "    }\n",
              "\n",
              "    .dataframe thead th {\n",
              "        text-align: right;\n",
              "    }\n",
              "</style>\n",
              "<table border=\"1\" class=\"dataframe\">\n",
              "  <thead>\n",
              "    <tr style=\"text-align: right;\">\n",
              "      <th></th>\n",
              "      <th>College Name</th>\n",
              "      <th>Genders Accepted</th>\n",
              "      <th>Campus Size</th>\n",
              "      <th>Total Student Enrollments</th>\n",
              "      <th>Total Faculty</th>\n",
              "      <th>Established Year</th>\n",
              "      <th>Rating</th>\n",
              "      <th>University</th>\n",
              "      <th>Courses</th>\n",
              "      <th>Facilities</th>\n",
              "      <th>...</th>\n",
              "      <th>state_Telangana</th>\n",
              "      <th>state_Tripura</th>\n",
              "      <th>state_Uttar Pradesh</th>\n",
              "      <th>state_Uttarakhand</th>\n",
              "      <th>state_West Bengal</th>\n",
              "      <th>ctype_Private</th>\n",
              "      <th>ctype_Public/Government</th>\n",
              "      <th>gender_Co-Ed</th>\n",
              "      <th>gender_Female</th>\n",
              "      <th>gender_Male</th>\n",
              "    </tr>\n",
              "  </thead>\n",
              "  <tbody>\n",
              "    <tr>\n",
              "      <th>0</th>\n",
              "      <td>National Institute of Technology Rourkela</td>\n",
              "      <td>Co-Ed</td>\n",
              "      <td>647.0</td>\n",
              "      <td>4811.0</td>\n",
              "      <td>329.0</td>\n",
              "      <td>2007.0</td>\n",
              "      <td>3.120000</td>\n",
              "      <td>NIT</td>\n",
              "      <td>B.Tech Mechanical Engineering, B.Tech Computer...</td>\n",
              "      <td>Boys Hostel, Girls Hostel, Gym, Library, Sport...</td>\n",
              "      <td>...</td>\n",
              "      <td>0</td>\n",
              "      <td>0</td>\n",
              "      <td>0</td>\n",
              "      <td>0</td>\n",
              "      <td>0</td>\n",
              "      <td>0</td>\n",
              "      <td>1</td>\n",
              "      <td>1</td>\n",
              "      <td>0</td>\n",
              "      <td>0</td>\n",
              "    </tr>\n",
              "    <tr>\n",
              "      <th>1</th>\n",
              "      <td>Visvesvaraya National Institute of Technology ...</td>\n",
              "      <td>Co-Ed</td>\n",
              "      <td>215.0</td>\n",
              "      <td>1071.0</td>\n",
              "      <td>192.0</td>\n",
              "      <td>2007.0</td>\n",
              "      <td>2.730000</td>\n",
              "      <td>NIT</td>\n",
              "      <td>B.Tech Computer Science Engineering, B.Tech El...</td>\n",
              "      <td>Boys Hostel, Girls Hostel, Gym, Library, Sport...</td>\n",
              "      <td>...</td>\n",
              "      <td>0</td>\n",
              "      <td>0</td>\n",
              "      <td>0</td>\n",
              "      <td>0</td>\n",
              "      <td>0</td>\n",
              "      <td>0</td>\n",
              "      <td>1</td>\n",
              "      <td>1</td>\n",
              "      <td>0</td>\n",
              "      <td>0</td>\n",
              "    </tr>\n",
              "    <tr>\n",
              "      <th>2</th>\n",
              "      <td>Netaji Subhas University of Technology</td>\n",
              "      <td>Co-Ed</td>\n",
              "      <td>145.0</td>\n",
              "      <td>3759.0</td>\n",
              "      <td>101.0</td>\n",
              "      <td>2018.0</td>\n",
              "      <td>3.056196</td>\n",
              "      <td>Autonomous</td>\n",
              "      <td>B.Tech Computer Engineering, B.Tech Electronic...</td>\n",
              "      <td>Boys Hostel, Girls Hostel, Gym, Library, Sport...</td>\n",
              "      <td>...</td>\n",
              "      <td>0</td>\n",
              "      <td>0</td>\n",
              "      <td>0</td>\n",
              "      <td>0</td>\n",
              "      <td>0</td>\n",
              "      <td>0</td>\n",
              "      <td>1</td>\n",
              "      <td>1</td>\n",
              "      <td>0</td>\n",
              "      <td>0</td>\n",
              "    </tr>\n",
              "    <tr>\n",
              "      <th>3</th>\n",
              "      <td>Birla Institute of Technology</td>\n",
              "      <td>Co-Ed</td>\n",
              "      <td>980.0</td>\n",
              "      <td>4506.0</td>\n",
              "      <td>284.0</td>\n",
              "      <td>1955.0</td>\n",
              "      <td>3.056196</td>\n",
              "      <td>BITS</td>\n",
              "      <td>B.Tech Computer Science Engineering, B.Tech El...</td>\n",
              "      <td>Boys Hostel, Girls Hostel, Gym, Library, Sport...</td>\n",
              "      <td>...</td>\n",
              "      <td>0</td>\n",
              "      <td>0</td>\n",
              "      <td>0</td>\n",
              "      <td>0</td>\n",
              "      <td>0</td>\n",
              "      <td>1</td>\n",
              "      <td>0</td>\n",
              "      <td>1</td>\n",
              "      <td>0</td>\n",
              "      <td>0</td>\n",
              "    </tr>\n",
              "    <tr>\n",
              "      <th>4</th>\n",
              "      <td>International Institute of Information Technology</td>\n",
              "      <td>Co-Ed</td>\n",
              "      <td>66.0</td>\n",
              "      <td>1721.0</td>\n",
              "      <td>85.0</td>\n",
              "      <td>2001.0</td>\n",
              "      <td>3.050000</td>\n",
              "      <td>Autonomous</td>\n",
              "      <td>B.Tech Computer Science and Engineering, M.Tec...</td>\n",
              "      <td>Boys Hostel, Girls Hostel, Gym, Library, Sport...</td>\n",
              "      <td>...</td>\n",
              "      <td>1</td>\n",
              "      <td>0</td>\n",
              "      <td>0</td>\n",
              "      <td>0</td>\n",
              "      <td>0</td>\n",
              "      <td>1</td>\n",
              "      <td>0</td>\n",
              "      <td>1</td>\n",
              "      <td>0</td>\n",
              "      <td>0</td>\n",
              "    </tr>\n",
              "  </tbody>\n",
              "</table>\n",
              "<p>5 rows × 2557 columns</p>\n",
              "</div>\n",
              "      <button class=\"colab-df-convert\" onclick=\"convertToInteractive('df-b56b0b67-182a-466e-b304-7b639ba36684')\"\n",
              "              title=\"Convert this dataframe to an interactive table.\"\n",
              "              style=\"display:none;\">\n",
              "        \n",
              "  <svg xmlns=\"http://www.w3.org/2000/svg\" height=\"24px\"viewBox=\"0 0 24 24\"\n",
              "       width=\"24px\">\n",
              "    <path d=\"M0 0h24v24H0V0z\" fill=\"none\"/>\n",
              "    <path d=\"M18.56 5.44l.94 2.06.94-2.06 2.06-.94-2.06-.94-.94-2.06-.94 2.06-2.06.94zm-11 1L8.5 8.5l.94-2.06 2.06-.94-2.06-.94L8.5 2.5l-.94 2.06-2.06.94zm10 10l.94 2.06.94-2.06 2.06-.94-2.06-.94-.94-2.06-.94 2.06-2.06.94z\"/><path d=\"M17.41 7.96l-1.37-1.37c-.4-.4-.92-.59-1.43-.59-.52 0-1.04.2-1.43.59L10.3 9.45l-7.72 7.72c-.78.78-.78 2.05 0 2.83L4 21.41c.39.39.9.59 1.41.59.51 0 1.02-.2 1.41-.59l7.78-7.78 2.81-2.81c.8-.78.8-2.07 0-2.86zM5.41 20L4 18.59l7.72-7.72 1.47 1.35L5.41 20z\"/>\n",
              "  </svg>\n",
              "      </button>\n",
              "      \n",
              "  <style>\n",
              "    .colab-df-container {\n",
              "      display:flex;\n",
              "      flex-wrap:wrap;\n",
              "      gap: 12px;\n",
              "    }\n",
              "\n",
              "    .colab-df-convert {\n",
              "      background-color: #E8F0FE;\n",
              "      border: none;\n",
              "      border-radius: 50%;\n",
              "      cursor: pointer;\n",
              "      display: none;\n",
              "      fill: #1967D2;\n",
              "      height: 32px;\n",
              "      padding: 0 0 0 0;\n",
              "      width: 32px;\n",
              "    }\n",
              "\n",
              "    .colab-df-convert:hover {\n",
              "      background-color: #E2EBFA;\n",
              "      box-shadow: 0px 1px 2px rgba(60, 64, 67, 0.3), 0px 1px 3px 1px rgba(60, 64, 67, 0.15);\n",
              "      fill: #174EA6;\n",
              "    }\n",
              "\n",
              "    [theme=dark] .colab-df-convert {\n",
              "      background-color: #3B4455;\n",
              "      fill: #D2E3FC;\n",
              "    }\n",
              "\n",
              "    [theme=dark] .colab-df-convert:hover {\n",
              "      background-color: #434B5C;\n",
              "      box-shadow: 0px 1px 3px 1px rgba(0, 0, 0, 0.15);\n",
              "      filter: drop-shadow(0px 1px 2px rgba(0, 0, 0, 0.3));\n",
              "      fill: #FFFFFF;\n",
              "    }\n",
              "  </style>\n",
              "\n",
              "      <script>\n",
              "        const buttonEl =\n",
              "          document.querySelector('#df-b56b0b67-182a-466e-b304-7b639ba36684 button.colab-df-convert');\n",
              "        buttonEl.style.display =\n",
              "          google.colab.kernel.accessAllowed ? 'block' : 'none';\n",
              "\n",
              "        async function convertToInteractive(key) {\n",
              "          const element = document.querySelector('#df-b56b0b67-182a-466e-b304-7b639ba36684');\n",
              "          const dataTable =\n",
              "            await google.colab.kernel.invokeFunction('convertToInteractive',\n",
              "                                                     [key], {});\n",
              "          if (!dataTable) return;\n",
              "\n",
              "          const docLinkHtml = 'Like what you see? Visit the ' +\n",
              "            '<a target=\"_blank\" href=https://colab.research.google.com/notebooks/data_table.ipynb>data table notebook</a>'\n",
              "            + ' to learn more about interactive tables.';\n",
              "          element.innerHTML = '';\n",
              "          dataTable['output_type'] = 'display_data';\n",
              "          await google.colab.output.renderOutput(dataTable, element);\n",
              "          const docLink = document.createElement('div');\n",
              "          docLink.innerHTML = docLinkHtml;\n",
              "          element.appendChild(docLink);\n",
              "        }\n",
              "      </script>\n",
              "    </div>\n",
              "  </div>\n",
              "  "
            ]
          },
          "metadata": {},
          "execution_count": 113
        }
      ]
    },
    {
      "cell_type": "code",
      "source": [
        "engg_colleges_train = engg_colleges.drop(['College Name','Campus Size', 'Total Faculty', 'Established Year', 'Courses', 'Facilities', 'Country','Genders Accepted', 'University',\n",
        "                                                'City', 'State', 'College Type', 'Courses_list', 'Facilities_list'],\n",
        "                                               axis = 1)"
      ],
      "metadata": {
        "id": "LtSQOdkeeoPe"
      },
      "id": "LtSQOdkeeoPe",
      "execution_count": null,
      "outputs": []
    },
    {
      "cell_type": "code",
      "source": [
        "colleges = engg_colleges_train.fillna(0)\n"
      ],
      "metadata": {
        "id": "EQIf-dz0eoSB"
      },
      "id": "EQIf-dz0eoSB",
      "execution_count": null,
      "outputs": []
    },
    {
      "cell_type": "code",
      "source": [
        "import numpy as np\n",
        "import pandas as pd\n",
        "\n",
        "\n",
        "import seaborn as sns\n",
        "import matplotlib.pyplot as plt\n",
        "#from fuzzywuzzy import fuzz\n",
        "from pathlib import Path\n",
        "\n",
        "import matplotlib.pyplot as plt\n",
        "from sklearn.neighbors import NearestNeighbors\n",
        "\n",
        "\n",
        "from sklearn.neighbors import KNeighborsClassifier\n",
        "from sklearn.model_selection import train_test_split\n",
        "\n",
        "import pickle\n",
        "from sklearn.decomposition import PCA\n"
      ],
      "metadata": {
        "id": "QDXvCPcveoUu"
      },
      "id": "QDXvCPcveoUu",
      "execution_count": null,
      "outputs": []
    },
    {
      "cell_type": "code",
      "source": [
        "pca1 = PCA(n_components=2, svd_solver='full')\n",
        "colleges1 = pca1.fit_transform(colleges)"
      ],
      "metadata": {
        "id": "JlpF7Bq1eoXh"
      },
      "id": "JlpF7Bq1eoXh",
      "execution_count": null,
      "outputs": []
    },
    {
      "cell_type": "code",
      "source": [
        "neigh = NearestNeighbors(n_neighbors=5, algorithm='brute')\n",
        "neigh.fit(colleges1)\n"
      ],
      "metadata": {
        "colab": {
          "base_uri": "https://localhost:8080/",
          "height": 75
        },
        "id": "0b1D2-gVy79c",
        "outputId": "c41c6f86-6567-41bc-dbf2-2b505ab032bf"
      },
      "id": "0b1D2-gVy79c",
      "execution_count": null,
      "outputs": [
        {
          "output_type": "execute_result",
          "data": {
            "text/plain": [
              "NearestNeighbors(algorithm='brute')"
            ],
            "text/html": [
              "<style>#sk-container-id-1 {color: black;background-color: white;}#sk-container-id-1 pre{padding: 0;}#sk-container-id-1 div.sk-toggleable {background-color: white;}#sk-container-id-1 label.sk-toggleable__label {cursor: pointer;display: block;width: 100%;margin-bottom: 0;padding: 0.3em;box-sizing: border-box;text-align: center;}#sk-container-id-1 label.sk-toggleable__label-arrow:before {content: \"▸\";float: left;margin-right: 0.25em;color: #696969;}#sk-container-id-1 label.sk-toggleable__label-arrow:hover:before {color: black;}#sk-container-id-1 div.sk-estimator:hover label.sk-toggleable__label-arrow:before {color: black;}#sk-container-id-1 div.sk-toggleable__content {max-height: 0;max-width: 0;overflow: hidden;text-align: left;background-color: #f0f8ff;}#sk-container-id-1 div.sk-toggleable__content pre {margin: 0.2em;color: black;border-radius: 0.25em;background-color: #f0f8ff;}#sk-container-id-1 input.sk-toggleable__control:checked~div.sk-toggleable__content {max-height: 200px;max-width: 100%;overflow: auto;}#sk-container-id-1 input.sk-toggleable__control:checked~label.sk-toggleable__label-arrow:before {content: \"▾\";}#sk-container-id-1 div.sk-estimator input.sk-toggleable__control:checked~label.sk-toggleable__label {background-color: #d4ebff;}#sk-container-id-1 div.sk-label input.sk-toggleable__control:checked~label.sk-toggleable__label {background-color: #d4ebff;}#sk-container-id-1 input.sk-hidden--visually {border: 0;clip: rect(1px 1px 1px 1px);clip: rect(1px, 1px, 1px, 1px);height: 1px;margin: -1px;overflow: hidden;padding: 0;position: absolute;width: 1px;}#sk-container-id-1 div.sk-estimator {font-family: monospace;background-color: #f0f8ff;border: 1px dotted black;border-radius: 0.25em;box-sizing: border-box;margin-bottom: 0.5em;}#sk-container-id-1 div.sk-estimator:hover {background-color: #d4ebff;}#sk-container-id-1 div.sk-parallel-item::after {content: \"\";width: 100%;border-bottom: 1px solid gray;flex-grow: 1;}#sk-container-id-1 div.sk-label:hover label.sk-toggleable__label {background-color: #d4ebff;}#sk-container-id-1 div.sk-serial::before {content: \"\";position: absolute;border-left: 1px solid gray;box-sizing: border-box;top: 0;bottom: 0;left: 50%;z-index: 0;}#sk-container-id-1 div.sk-serial {display: flex;flex-direction: column;align-items: center;background-color: white;padding-right: 0.2em;padding-left: 0.2em;position: relative;}#sk-container-id-1 div.sk-item {position: relative;z-index: 1;}#sk-container-id-1 div.sk-parallel {display: flex;align-items: stretch;justify-content: center;background-color: white;position: relative;}#sk-container-id-1 div.sk-item::before, #sk-container-id-1 div.sk-parallel-item::before {content: \"\";position: absolute;border-left: 1px solid gray;box-sizing: border-box;top: 0;bottom: 0;left: 50%;z-index: -1;}#sk-container-id-1 div.sk-parallel-item {display: flex;flex-direction: column;z-index: 1;position: relative;background-color: white;}#sk-container-id-1 div.sk-parallel-item:first-child::after {align-self: flex-end;width: 50%;}#sk-container-id-1 div.sk-parallel-item:last-child::after {align-self: flex-start;width: 50%;}#sk-container-id-1 div.sk-parallel-item:only-child::after {width: 0;}#sk-container-id-1 div.sk-dashed-wrapped {border: 1px dashed gray;margin: 0 0.4em 0.5em 0.4em;box-sizing: border-box;padding-bottom: 0.4em;background-color: white;}#sk-container-id-1 div.sk-label label {font-family: monospace;font-weight: bold;display: inline-block;line-height: 1.2em;}#sk-container-id-1 div.sk-label-container {text-align: center;}#sk-container-id-1 div.sk-container {/* jupyter's `normalize.less` sets `[hidden] { display: none; }` but bootstrap.min.css set `[hidden] { display: none !important; }` so we also need the `!important` here to be able to override the default hidden behavior on the sphinx rendered scikit-learn.org. See: https://github.com/scikit-learn/scikit-learn/issues/21755 */display: inline-block !important;position: relative;}#sk-container-id-1 div.sk-text-repr-fallback {display: none;}</style><div id=\"sk-container-id-1\" class=\"sk-top-container\"><div class=\"sk-text-repr-fallback\"><pre>NearestNeighbors(algorithm=&#x27;brute&#x27;)</pre><b>In a Jupyter environment, please rerun this cell to show the HTML representation or trust the notebook. <br />On GitHub, the HTML representation is unable to render, please try loading this page with nbviewer.org.</b></div><div class=\"sk-container\" hidden><div class=\"sk-item\"><div class=\"sk-estimator sk-toggleable\"><input class=\"sk-toggleable__control sk-hidden--visually\" id=\"sk-estimator-id-1\" type=\"checkbox\" checked><label for=\"sk-estimator-id-1\" class=\"sk-toggleable__label sk-toggleable__label-arrow\">NearestNeighbors</label><div class=\"sk-toggleable__content\"><pre>NearestNeighbors(algorithm=&#x27;brute&#x27;)</pre></div></div></div></div></div>"
            ]
          },
          "metadata": {},
          "execution_count": 118
        }
      ]
    },
    {
      "cell_type": "code",
      "source": [
        "knnPickle1 = open('knnpickle_file1', 'wb') \n",
        "\n",
        "pickle.dump(neigh, knnPickle1)  \n",
        "\n",
        "knnPickle1.close()\n"
      ],
      "metadata": {
        "id": "H9RY9x0Yy_su"
      },
      "id": "H9RY9x0Yy_su",
      "execution_count": null,
      "outputs": []
    },
    {
      "cell_type": "code",
      "source": [
        "loaded_model = pickle.load(open('knnpickle_file1', 'rb'))\n"
      ],
      "metadata": {
        "id": "oyecRRaDzElw"
      },
      "id": "oyecRRaDzElw",
      "execution_count": null,
      "outputs": []
    },
    {
      "cell_type": "code",
      "source": [
        "trial = colleges1[1].reshape(1, -1)\n",
        "\n",
        "distances, indices = loaded_model.kneighbors(trial) \n",
        "indices"
      ],
      "metadata": {
        "colab": {
          "base_uri": "https://localhost:8080/"
        },
        "id": "cnMSu4BfzNVp",
        "outputId": "212c969a-8713-4d76-bb03-7ffd0dcbcc23"
      },
      "id": "cnMSu4BfzNVp",
      "execution_count": null,
      "outputs": [
        {
          "output_type": "execute_result",
          "data": {
            "text/plain": [
              "array([[   1,  678, 1629, 2116, 2505]])"
            ]
          },
          "metadata": {},
          "execution_count": 122
        }
      ]
    },
    {
      "cell_type": "code",
      "source": [
        "print(engg_colleges['College Name'][indices])"
      ],
      "metadata": {
        "id": "aBTTHZXSzlW1"
      },
      "id": "aBTTHZXSzlW1",
      "execution_count": null,
      "outputs": []
    }
  ],
  "metadata": {
    "kernelspec": {
      "display_name": "Python 3 (ipykernel)",
      "language": "python",
      "name": "python3"
    },
    "language_info": {
      "codemirror_mode": {
        "name": "ipython",
        "version": 3
      },
      "file_extension": ".py",
      "mimetype": "text/x-python",
      "name": "python",
      "nbconvert_exporter": "python",
      "pygments_lexer": "ipython3",
      "version": "3.9.12"
    },
    "colab": {
      "provenance": []
    }
  },
  "nbformat": 4,
  "nbformat_minor": 5
}